{
 "cells": [
  {
   "cell_type": "markdown",
   "metadata": {},
   "source": [
    "## Parsing fastq files to reduce the number of reads or trim the length of reads returned.\n",
    "\n",
    "We have found a couple of ways that the evSeq software could be improved and this notebook demonstrates how they can be used.\n",
    "\n",
    "First, we found that the evSeq software fails if your returned reads are longer than the variable region and begin to read into the primer regions. As a quick fix for this, .fastq sequences can be trimmed to a desired length with the parser below `trim_fastqs`. \n",
    "\n",
    "Secondly, we found that if many reads are returned the software becomes difficult to run on a personal laptop. Of course, the compute can always be scaled up to accomodate more reads, but an alternative is to randomly downsample from the returned .fastq files. You can also downsample and make sure the software runs through with the new .fastq files before committing to a longer evSeq run with the full files. Downsampling can be done with `downsample_fastqs`.\n",
    "\n",
    "These options are in beta version right now and may be incorporated into evSeq in the future."
   ]
  },
  {
   "cell_type": "code",
   "execution_count": 1,
   "metadata": {},
   "outputs": [],
   "source": [
    "%load_ext autoreload\n",
    "%autoreload 2"
   ]
  },
  {
   "cell_type": "code",
   "execution_count": 2,
   "metadata": {},
   "outputs": [],
   "source": [
    "from evSeq.util import trim_fastqs, downsample_fastqs"
   ]
  },
  {
   "cell_type": "code",
   "execution_count": 3,
   "metadata": {},
   "outputs": [
    {
     "name": "stdout",
     "output_type": "stream",
     "text": [
      "\u001b[1;31mSignature:\u001b[0m \u001b[0mtrim_fastqs\u001b[0m\u001b[1;33m(\u001b[0m\u001b[0mfolder\u001b[0m\u001b[1;33m,\u001b[0m \u001b[0mnew_length\u001b[0m\u001b[1;33m=\u001b[0m\u001b[1;36m150\u001b[0m\u001b[1;33m)\u001b[0m\u001b[1;33m\u001b[0m\u001b[1;33m\u001b[0m\u001b[0m\n",
      "\u001b[1;31mDocstring:\u001b[0m\n",
      "A function to take a folder with fastqs that harbored returned reads \n",
      "longer than desired and write new fastqs with the reads trimmed to \n",
      "the desired length.\n",
      "\n",
      "Parameters:\n",
      "-----------\n",
      "folder: string, path to folder containing fastq files to trim. \n",
      "    fastq files to be trimmed must have the *_R*_*.fastq or \n",
      "    *_R*_*.fastq.gz naming convention. This will be the location of a new \n",
      "    folder called trimmed_reads harboring the trimmed fastqs, which \n",
      "    will be named trimmed_ORIGINAL_NAME.fastq.\n",
      "new_length: int, default 150, \n",
      "    length to trim reads to, will be used for both forward and reverse \n",
      "    read files. Reads shorter than the new_length will remain the same \n",
      "    length.\n",
      "\u001b[1;31mFile:\u001b[0m      c:\\users\\kejoh\\github\\evseq\\evseq\\util\\fastq_parsing.py\n",
      "\u001b[1;31mType:\u001b[0m      function\n"
     ]
    }
   ],
   "source": [
    "trim_fastqs?"
   ]
  },
  {
   "cell_type": "code",
   "execution_count": 4,
   "metadata": {},
   "outputs": [
    {
     "name": "stdout",
     "output_type": "stream",
     "text": [
      "Loading reads from ..\\data\\multisite_runs\\multisite_S305_L001_R1_001.fastq.gz\n"
     ]
    },
    {
     "name": "stderr",
     "output_type": "stream",
     "text": [
      "403077it [01:04, 6209.19it/s] \n"
     ]
    },
    {
     "name": "stdout",
     "output_type": "stream",
     "text": [
      "Loading reads from ..\\data\\multisite_runs\\multisite_S305_L001_R2_001.fastq.gz\n"
     ]
    },
    {
     "name": "stderr",
     "output_type": "stream",
     "text": [
      "403077it [01:14, 5410.34it/s] \n"
     ]
    }
   ],
   "source": [
    "# Inputs to trim_fastqs\n",
    "folder = '../data/multisite_runs/'\n",
    "new_length = 150\n",
    "trim_fastqs(folder, new_length)"
   ]
  },
  {
   "cell_type": "code",
   "execution_count": 5,
   "metadata": {},
   "outputs": [
    {
     "name": "stdout",
     "output_type": "stream",
     "text": [
      "\u001b[1;31mSignature:\u001b[0m \u001b[0mdownsample_fastqs\u001b[0m\u001b[1;33m(\u001b[0m\u001b[0mfolder\u001b[0m\u001b[1;33m,\u001b[0m \u001b[0mnum_entries\u001b[0m\u001b[1;33m=\u001b[0m\u001b[1;36m100000\u001b[0m\u001b[1;33m)\u001b[0m\u001b[1;33m\u001b[0m\u001b[1;33m\u001b[0m\u001b[0m\n",
      "\u001b[1;31mDocstring:\u001b[0m\n",
      "A function to take a folder with fastqs that harbored more returned \n",
      "reads than desired and write new fastqs with fewer reads that have been\n",
      "downsampled randomly. Downsampling the reads reduces the compute burden \n",
      "of evSeq, but also reduces the data available.\n",
      "\n",
      "Parameters:\n",
      "-----------\n",
      "folder: string, path to folder containing fastq files to downsample. \n",
      "    fastq files to be downsampled must have the *_R*_*.fastq or \n",
      "    *_R*_*.fastq.gz naming convention. This folder will be the location \n",
      "    of a new folder called downsampled_reads harboring the downsampled \n",
      "    fastqs, which will be named downsampled_ORIGINAL_NAME.fastq.\n",
      "num_entries: int, default 100000, \n",
      "    number of reads to downsample to. This will be used for both forward \n",
      "    and reverse read files, which will have been downsampled in the same \n",
      "    way.\n",
      "\u001b[1;31mFile:\u001b[0m      c:\\users\\kejoh\\github\\evseq\\evseq\\util\\fastq_parsing.py\n",
      "\u001b[1;31mType:\u001b[0m      function\n"
     ]
    }
   ],
   "source": [
    "downsample_fastqs?"
   ]
  },
  {
   "cell_type": "code",
   "execution_count": 6,
   "metadata": {},
   "outputs": [
    {
     "name": "stdout",
     "output_type": "stream",
     "text": [
      "Loading forward reads...\n"
     ]
    },
    {
     "name": "stderr",
     "output_type": "stream",
     "text": [
      "403077it [00:53, 7480.04it/s] \n"
     ]
    },
    {
     "name": "stdout",
     "output_type": "stream",
     "text": [
      "Downsampling forward reads...\n",
      "Loading reverse reads...\n"
     ]
    },
    {
     "name": "stderr",
     "output_type": "stream",
     "text": [
      "403077it [00:48, 8388.34it/s] \n"
     ]
    },
    {
     "name": "stdout",
     "output_type": "stream",
     "text": [
      "Downsampling forward reads...\n"
     ]
    }
   ],
   "source": [
    "# Inputs to downsample_fastqs\n",
    "folder = '../data/multisite_runs/'\n",
    "num_entries = 100000\n",
    "downsample_fastqs(folder, num_entries)"
   ]
  },
  {
   "cell_type": "code",
   "execution_count": null,
   "metadata": {},
   "outputs": [],
   "source": []
  }
 ],
 "metadata": {
  "interpreter": {
   "hash": "40f5ca817df1edaa21cec1951a4e2e0ecd089765e947d004d5de8709d08b0852"
  },
  "kernelspec": {
   "display_name": "Python 3.8.11 ('evSeq')",
   "language": "python",
   "name": "python3"
  },
  "language_info": {
   "codemirror_mode": {
    "name": "ipython",
    "version": 3
   },
   "file_extension": ".py",
   "mimetype": "text/x-python",
   "name": "python",
   "nbconvert_exporter": "python",
   "pygments_lexer": "ipython3",
   "version": "3.8.11"
  },
  "orig_nbformat": 4
 },
 "nbformat": 4,
 "nbformat_minor": 2
}
