{
 "cells": [
  {
   "cell_type": "markdown",
   "metadata": {},
   "source": [
    "This notebook is used to build test cases for the new deSeq pipeline. The main things to test are:\n",
    "1. The outputs of files are as we expect.\n",
    "2. Everything works stably.\n",
    "\n",
    "We will build both general test conditions as well as make a stress test which randomly generates input conditions and records instances of failure."
   ]
  },
  {
   "cell_type": "markdown",
   "metadata": {},
   "source": [
    "Conditions in particular to look at:\n",
    "1. How well does deSeq handle (1) perfectly overlapping reads (2) overlapping reads (3) perfectly non-overlapping (where the forward ends just before reverse starts) and (4) non-overlapping.\n"
   ]
  },
  {
   "cell_type": "code",
   "execution_count": null,
   "metadata": {},
   "outputs": [],
   "source": []
  },
  {
   "cell_type": "markdown",
   "metadata": {},
   "source": [
    "For a given well...\n",
    "1. Randomly decide which positions are mutated\n",
    "2. Randomly decide on a count and frequency for the full combination\n",
    "3. Decide if the well is wild type (if the combination is wild type) or dead (if the count is below our expected frequency)\n",
    "4. Build reads with quality scores that will generate the target output for the combination\n",
    "5. Count the expected individual read counts and calculate a frequency \n",
    "6. Spike in random reads with insertions and deletions across the sequence\n",
    "\n",
    "Repeat the above for a series of wells to make up a fake dataset. "
   ]
  },
  {
   "cell_type": "code",
   "execution_count": null,
   "metadata": {},
   "outputs": [],
   "source": []
  }
 ],
 "metadata": {
  "kernelspec": {
   "display_name": "Python 3",
   "language": "python",
   "name": "python3"
  },
  "language_info": {
   "codemirror_mode": {
    "name": "ipython",
    "version": 3
   },
   "file_extension": ".py",
   "mimetype": "text/x-python",
   "name": "python",
   "nbconvert_exporter": "python",
   "pygments_lexer": "ipython3",
   "version": "3.7.6"
  }
 },
 "nbformat": 4,
 "nbformat_minor": 4
}
