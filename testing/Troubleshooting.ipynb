{
 "cells": [
  {
   "cell_type": "code",
   "execution_count": 2,
   "metadata": {},
   "outputs": [
    {
     "output_type": "error",
     "ename": "ImportError",
     "evalue": "attempted relative import with no known parent package",
     "traceback": [
      "\u001b[1;31m---------------------------------------------------------------------------\u001b[0m",
      "\u001b[1;31mImportError\u001b[0m                               Traceback (most recent call last)",
      "\u001b[1;32m<ipython-input-2-2fc4cc2b8064>\u001b[0m in \u001b[0;36m<module>\u001b[1;34m\u001b[0m\n\u001b[0;32m      1\u001b[0m \u001b[1;31m# Import relevant modules from ssSeqSupport.\u001b[0m\u001b[1;33m\u001b[0m\u001b[1;33m\u001b[0m\u001b[1;33m\u001b[0m\u001b[0m\n\u001b[1;32m----> 2\u001b[1;33m \u001b[1;32mfrom\u001b[0m \u001b[1;33m.\u001b[0m\u001b[1;33m.\u001b[0m\u001b[0mcode\u001b[0m\u001b[1;33m.\u001b[0m\u001b[0mglobals\u001b[0m \u001b[1;32mimport\u001b[0m \u001b[0mN_CPUS\u001b[0m\u001b[1;33m,\u001b[0m \u001b[0mAA_ARRAY\u001b[0m\u001b[1;33m\u001b[0m\u001b[1;33m\u001b[0m\u001b[0m\n\u001b[0m\u001b[0;32m      3\u001b[0m \u001b[1;32mfrom\u001b[0m \u001b[1;33m.\u001b[0m\u001b[1;33m.\u001b[0m\u001b[0mcode\u001b[0m\u001b[1;33m.\u001b[0m\u001b[0mlogging\u001b[0m \u001b[1;32mimport\u001b[0m \u001b[0mlog_init\u001b[0m\u001b[1;33m,\u001b[0m \u001b[0mlog_info\u001b[0m\u001b[1;33m,\u001b[0m \u001b[0mlog_error\u001b[0m\u001b[1;33m\u001b[0m\u001b[1;33m\u001b[0m\u001b[0m\n\u001b[0;32m      4\u001b[0m \u001b[1;32mfrom\u001b[0m \u001b[1;33m.\u001b[0m\u001b[1;33m.\u001b[0m\u001b[0mcode\u001b[0m\u001b[1;33m.\u001b[0m\u001b[0minput_processing\u001b[0m \u001b[1;32mimport\u001b[0m \u001b[0mbuild_output_dirs\u001b[0m\u001b[1;33m\u001b[0m\u001b[1;33m\u001b[0m\u001b[0m\n\u001b[0;32m      5\u001b[0m \u001b[1;32mfrom\u001b[0m \u001b[1;33m.\u001b[0m\u001b[1;33m.\u001b[0m\u001b[0mcode\u001b[0m\u001b[1;33m.\u001b[0m\u001b[0mrun_deSeq\u001b[0m \u001b[1;32mimport\u001b[0m \u001b[0mrun_deseq\u001b[0m\u001b[1;33m\u001b[0m\u001b[1;33m\u001b[0m\u001b[0m\n",
      "\u001b[1;31mImportError\u001b[0m: attempted relative import with no known parent package"
     ]
    }
   ],
   "source": [
    "# Import relevant modules from ssSeqSupport.\n",
    "from ..code.globals import N_CPUS, AA_ARRAY\n",
    "from ..code.logging import log_init, log_info, log_error\n",
    "from ..code.input_processing import build_output_dirs\n",
    "from ..code.run_deSeq import run_deseq\n",
    "from ..code.run_deSeq import load_all, build_seqpairs, qc_seqpairs, assign_seqpairs_to_well, check_args\n",
    "\n",
    "import numpy as np"
   ]
  },
  {
   "cell_type": "code",
   "execution_count": 4,
   "metadata": {},
   "outputs": [
    {
     "name": "stdout",
     "output_type": "stream",
     "text": [
      "Loading forward reads...\n"
     ]
    },
    {
     "name": "stderr",
     "output_type": "stream",
     "text": [
      "Parsing forward reads...: 100%|██████████| 453481/453481 [00:16<00:00, 27413.07it/s]\n"
     ]
    },
    {
     "name": "stdout",
     "output_type": "stream",
     "text": [
      "Loading reverse reads...\n"
     ]
    },
    {
     "name": "stderr",
     "output_type": "stream",
     "text": [
      "Pairing reverse reads...: 100%|██████████| 453481/453481 [00:27<00:00, 16593.70it/s]\n"
     ]
    },
    {
     "name": "stdout",
     "output_type": "stream",
     "text": [
      "Running read qc...\n",
      "Assigning sequences to wells...\n"
     ]
    }
   ],
   "source": [
    "# Define command line args\n",
    "cl_args = {\"refseq\": \"../data/test_data/DefaultRefSeqs.csv\",\n",
    "          \"folder\": \"../data/test_data/\",\n",
    "           \"fastq_r\": \"\",\n",
    "          \"output\": \"./TEMP/VAL/\",\n",
    "          \"read_length\": None,\n",
    "          \"length_cutoff\": 0.9,\n",
    "          \"average_q_cutoff\": 25,\n",
    "          \"bp_q_cutoff\": 30,\n",
    "          \"variable_thresh\": 0.1,\n",
    "          \"variable_count\": 1,\n",
    "          \"jobs\": 23,\n",
    "          \"analysis_only\": False,\n",
    "          \"stop_after_fastq\": False,\n",
    "           \"return_alignments\": False,\n",
    "           \"datetime\": \"ADFADF\",\n",
    "           \"detailed_refseq\": False\n",
    "          }\n",
    "\n",
    "# Build all output directories\n",
    "build_output_dirs(cl_args)\n",
    "\n",
    "# Log CLArgs\n",
    "log_init(cl_args)  \n",
    "\n",
    "# Check the input arguments\n",
    "check_args(cl_args)\n",
    "\n",
    "# Identify sequencing files and load reference sequence information\n",
    "forward_file, reverse_file, bc_to_ref_plate_well = load_all(cl_args)\n",
    "\n",
    "# Pair all sequences\n",
    "all_seqpairs = build_seqpairs(forward_file, reverse_file)\n",
    "\n",
    "# Run QC on the seqpairs\n",
    "filtered_seqpairs = qc_seqpairs(all_seqpairs, cl_args[\"read_length\"],\n",
    "                                cl_args[\"length_cutoff\"], \n",
    "                                cl_args[\"average_q_cutoff\"])\n",
    "\n",
    "# Assign seqpairs to a well\n",
    "all_wells = assign_seqpairs_to_well(filtered_seqpairs, \n",
    "                                    bc_to_ref_plate_well,\n",
    "                                    cl_args[\"output\"])"
   ]
  },
  {
   "cell_type": "code",
   "execution_count": 5,
   "metadata": {},
   "outputs": [],
   "source": [
    "problem_well = [well for well in all_wells if well.index_plate == \"DI02\" and well.well == \"E06\"][0]"
   ]
  },
  {
   "cell_type": "code",
   "execution_count": 6,
   "metadata": {},
   "outputs": [],
   "source": [
    "problem_well.align()"
   ]
  },
  {
   "cell_type": "code",
   "execution_count": 7,
   "metadata": {},
   "outputs": [
    {
     "data": {
      "text/plain": [
       "True"
      ]
     },
     "execution_count": 7,
     "metadata": {},
     "output_type": "execute_result"
    }
   ],
   "source": [
    "problem_well.analyze_alignments(30, 1)"
   ]
  },
  {
   "cell_type": "code",
   "execution_count": 8,
   "metadata": {},
   "outputs": [],
   "source": [
    "problem_well.build_unit_count_matrices()"
   ]
  },
  {
   "cell_type": "code",
   "execution_count": 9,
   "metadata": {},
   "outputs": [
    {
     "data": {
      "text/plain": [
       "''"
      ]
     },
     "execution_count": 9,
     "metadata": {},
     "output_type": "execute_result"
    }
   ],
   "source": [
    "problem_well.identify_variable_positions(0.1)"
   ]
  },
  {
   "cell_type": "code",
   "execution_count": 13,
   "metadata": {},
   "outputs": [],
   "source": [
    "variable_positions = problem_well.all_variable_aa_positions\n",
    "all_counts = problem_well.all_aa_counts\n",
    "unit_array = AA_ARRAY\n",
    "reference_sequence = problem_well.reference_sequence_aa\n",
    "variable_thresh = 0.2\n",
    "variable_count = 10\n",
    "pos_offset = problem_well.aa_ind_start"
   ]
  },
  {
   "cell_type": "code",
   "execution_count": 17,
   "metadata": {},
   "outputs": [],
   "source": [
    "# Define output columns\n",
    "columns = (\"IndexPlate\", \"Plate\", \"Well\", \"VariantCombo\", \"SimpleCombo\",\n",
    "           \"VariantsFound\", \"AlignmentFrequency\", \"WellSeqDepth\",\n",
    "           \"VariantSequence\", \"Flags\")\n",
    "\n",
    "# Get the number of positions\n",
    "n_positions = len(variable_positions)            \n",
    "\n",
    "# Get the counts of alignments that are paired end\n",
    "paired_alignment_inds = np.array([i for i, seqpair in enumerate(problem_well.non_dud_alignments)\n",
    "                                  if seqpair.is_paired_post_alignment_qc()])\n",
    "\n",
    "# Get the counts for the paired alignment seqpairs\n",
    "paired_alignment_counts = all_counts[paired_alignment_inds]\n",
    "\n",
    "# If there are no paired reads, return a dead dataframe\n",
    "n_paired = len(paired_alignment_inds)\n",
    "\n",
    "# Get the positions with variety\n",
    "variable_position_counts = paired_alignment_counts[:, :, variable_positions]\n",
    "\n",
    "# Make sure all passed QC. This means that each variable position has at least\n",
    "# one count. This works because amino acids are only counted if they pass QC:\n",
    "# for all to pass QC they must all have a count at some position\n",
    "all_pos_at_least_one_count = np.all(variable_position_counts.sum(axis=1) >= 1, axis = 1)\n",
    "passing_qc = variable_position_counts[all_pos_at_least_one_count].copy()\n",
    "\n",
    "# Replace all instances where we have a count of 2 with 1. Counting at \n",
    "# this stage is by combo, so we don't worry about the sequencing depth\n",
    "# of individual positions\n",
    "passing_qc[passing_qc == 2] = 1\n",
    "assert np.all(np.logical_or(passing_qc == 1, passing_qc == 0)), \"Unexpected number of counts\"\n",
    "\n",
    "# Get the unique sequences that all passed QC\n",
    "unique_binary_combos, unique_counts = np.unique(passing_qc, axis = 0, return_counts = True)\n",
    "\n",
    "# We cannot have more counts than paired seqpairs\n",
    "assert unique_counts.max() <= len(paired_alignment_inds), \"Counting error\"\n",
    "\n",
    "# Get a frequency array\n",
    "seq_depth = unique_counts.sum()\n",
    "unique_freqs = unique_counts / seq_depth\n",
    "\n",
    "# Loop over the unique combos and format for output\n",
    "output = [None] * len(unique_counts)\n",
    "for unique_counter, unique_binary_combo in enumerate(unique_binary_combos):\n",
    "\n",
    "    # Get the index profile. This maps each position to a unit position\n",
    "    # in either `BP_ARRAY` or `AA_ARRAY`\n",
    "    index_profile = np.argwhere(np.transpose(unique_binary_combo > 0))\n",
    "\n",
    "    # Get the position and amino acid.\n",
    "    unique_position_array = variable_positions[index_profile[:, 0]]\n",
    "    unique_combo = unit_array[index_profile[:, 1]]\n",
    "\n",
    "    # Make sure the output is sorted\n",
    "    assert np.all(np.diff(unique_position_array)), \"Output not sorted\"\n",
    "\n",
    "    # Construct a sequence based on the reference\n",
    "    # Construct a combo name based on the combo and position\n",
    "    new_seq = list(reference_sequence)\n",
    "    combo_name = [None] * n_positions\n",
    "    simple_combo = combo_name.copy()\n",
    "    for combo_ind, (pos, unit) in enumerate(zip(unique_position_array, unique_combo)):\n",
    "\n",
    "        # Update the sequence\n",
    "        new_seq[pos] = unit\n",
    "\n",
    "        # Update the combo name. Add the offset to the position index to get\n",
    "        # the start id of the reference seqeunce\n",
    "        combo_name[combo_ind] = f\"{reference_sequence[pos]}{pos + pos_offset}{unit}\"\n",
    "\n",
    "        # Update the simple combo name\n",
    "        simple_combo[combo_ind] = unit\n",
    "\n",
    "    # Convert the new seq and new combo into strings\n",
    "    new_seq = \"\".join(new_seq)\n",
    "    combo_name = \"_\".join(combo_name)\n",
    "    simple_combo = \"\".join(simple_combo)\n",
    "\n",
    "    # Record output\n",
    "    output[unique_counter] = [problem_well.index_plate, problem_well.plate_nickname, problem_well.well,\n",
    "                             combo_name, simple_combo, n_positions,\n",
    "                             unique_freqs[unique_counter], seq_depth, new_seq, None]"
   ]
  },
  {
   "cell_type": "code",
   "execution_count": 18,
   "metadata": {},
   "outputs": [
    {
     "data": {
      "text/plain": [
       "[['DI02',\n",
       "  'Plate02',\n",
       "  'E06',\n",
       "  '?10S_?13M_?34*_?38L',\n",
       "  'SM*L',\n",
       "  4,\n",
       "  0.0021691973969631237,\n",
       "  461,\n",
       "  'ALQKHSVAISATMGRLLFERYPETRSLFELPER*IHKLASALLAYARS',\n",
       "  None],\n",
       " ['DI02',\n",
       "  'Plate02',\n",
       "  'E06',\n",
       "  '?10S_?13T_?34Q_?38L',\n",
       "  'STQL',\n",
       "  4,\n",
       "  0.0021691973969631237,\n",
       "  461,\n",
       "  'ALQKHSVAISATTGRLLFERYPETRSLFELPERQIHKLASALLAYARS',\n",
       "  None],\n",
       " ['DI02',\n",
       "  'Plate02',\n",
       "  'E06',\n",
       "  '?10S_?13M_?34Q_?38L',\n",
       "  'SMQL',\n",
       "  4,\n",
       "  0.9783080260303688,\n",
       "  461,\n",
       "  'ALQKHSVAISATMGRLLFERYPETRSLFELPERQIHKLASALLAYARS',\n",
       "  None],\n",
       " ['DI02',\n",
       "  'Plate02',\n",
       "  'E06',\n",
       "  '?10S_?13K_?34Q_?38L',\n",
       "  'SKQL',\n",
       "  4,\n",
       "  0.0021691973969631237,\n",
       "  461,\n",
       "  'ALQKHSVAISATKGRLLFERYPETRSLFELPERQIHKLASALLAYARS',\n",
       "  None],\n",
       " ['DI02',\n",
       "  'Plate02',\n",
       "  'E06',\n",
       "  '?10S_?13I_?34Q_?38L',\n",
       "  'SIQL',\n",
       "  4,\n",
       "  0.0021691973969631237,\n",
       "  461,\n",
       "  'ALQKHSVAISATIGRLLFERYPETRSLFELPERQIHKLASALLAYARS',\n",
       "  None],\n",
       " ['DI02',\n",
       "  'Plate02',\n",
       "  'E06',\n",
       "  '?10G_?13M_?34Q_?38L',\n",
       "  'GMQL',\n",
       "  4,\n",
       "  0.0021691973969631237,\n",
       "  461,\n",
       "  'ALQKHSVAIGATMGRLLFERYPETRSLFELPERQIHKLASALLAYARS',\n",
       "  None],\n",
       " ['DI02',\n",
       "  'Plate02',\n",
       "  'E06',\n",
       "  '?10S_?13M_?34R_?38L',\n",
       "  'SMRL',\n",
       "  4,\n",
       "  0.010845986984815618,\n",
       "  461,\n",
       "  'ALQKHSVAISATMGRLLFERYPETRSLFELPERRIHKLASALLAYARS',\n",
       "  None]]"
      ]
     },
     "execution_count": 18,
     "metadata": {},
     "output_type": "execute_result"
    }
   ],
   "source": [
    "output"
   ]
  },
  {
   "cell_type": "code",
   "execution_count": null,
   "metadata": {},
   "outputs": [],
   "source": []
  }
 ],
 "metadata": {
  "kernelspec": {
   "name": "python379jvsc74a57bd09f9217248950819e3e330b05aa6a64b63adb55d52a2073ac26daa1eea072b080",
   "display_name": "Python 3.7.9 64-bit ('deSeq': conda)"
  },
  "language_info": {
   "codemirror_mode": {
    "name": "ipython",
    "version": 3
   },
   "file_extension": ".py",
   "mimetype": "text/x-python",
   "name": "python",
   "nbconvert_exporter": "python",
   "pygments_lexer": "ipython3",
   "version": "3.7.9"
  }
 },
 "nbformat": 4,
 "nbformat_minor": 4
}