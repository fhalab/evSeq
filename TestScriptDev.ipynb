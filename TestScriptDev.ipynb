{
 "cells": [
  {
   "cell_type": "code",
   "execution_count": 1,
   "metadata": {},
   "outputs": [],
   "source": [
    "# Import deSeq globals\n",
    "from Code.Globals import BARCODE_LENGTH, ADAPTER_LENGTH_F, ADAPTER_LENGTH_R\n",
    "\n",
    "# Import required modules\n",
    "import numpy as np\n",
    "import pandas as pd\n",
    "from string import Template\n",
    "from random import shuffle\n",
    "\n",
    "from Bio.Seq import Seq\n",
    "from Bio.SeqRecord import SeqRecord\n",
    "from Bio import SeqIO"
   ]
  },
  {
   "cell_type": "code",
   "execution_count": 2,
   "metadata": {},
   "outputs": [],
   "source": [
    "# Define the allowed bases\n",
    "allowed_bases_tup = (\"A\", \"T\", \"C\", \"G\")\n",
    "allowed_bases_set = set(allowed_bases_tup)\n",
    "\n",
    "# Define potential \"in frame\" indices and allowed\n",
    "# indices for making mutations within a codon\n",
    "allowed_in_frame = (0, 1, 2)\n",
    "allowed_n_mutations = (1, 2, 3)\n",
    "\n",
    "# Define the frequency with which no mutations are made\n",
    "wt_freq = 0.05\n",
    "\n",
    "# Define the allowed lengths of reference sequences\n",
    "allowed_ref_lengths = (124, 601)\n",
    "\n",
    "# Define the allowed number of reads in a well\n",
    "allowed_n_reads = (0, 101)\n",
    "\n",
    "# Determine how many variants are allowed in a well\n",
    "allowed_n_variants = (1, 4)\n",
    "\n",
    "# Determine the frequency with which we have dead wells\n",
    "dead_well_freq = 0.05\n",
    "\n",
    "# Define the probability that any given base is bad\n",
    "bad_base_freq = 0.05\n",
    "\n",
    "# Load the barcode df\n",
    "barcode_df = pd.read_csv(\"./Code/IndexMap.csv\")\n",
    "\n",
    "# Define a forward ID template\n",
    "id_template = Template(\"@M06418:33:000000000-CRL6Y:1:1101:0:$num 1:N:0:162\")\n",
    "\n",
    "# Define the forward and reverse adapters\n",
    "F_ADAPTER = \"CACCCAAGACCACTCTCCGG\"\n",
    "R_ADAPTER = \"CGGTGTGCGAAGTAGGTGC\""
   ]
  },
  {
   "cell_type": "markdown",
   "metadata": {},
   "source": [
    "This notebook is used to build test cases for the new deSeq pipeline. The main things to test are:\n",
    "1. The outputs of files are as we expect.\n",
    "2. Everything works stably.\n",
    "\n",
    "We will build both general test conditions as well as make a stress test which randomly generates input conditions and records instances of failure."
   ]
  },
  {
   "cell_type": "markdown",
   "metadata": {},
   "source": [
    "Conditions in particular to look at:\n",
    "1. How well does deSeq handle (0) imperfectly overlapping reads (e.g. reads go into the barcode regions) (1) perfectly overlapping reads (2) overlapping reads (3) perfectly non-overlapping (where the forward ends just before reverse starts) and (4) non-overlapping.\n"
   ]
  },
  {
   "cell_type": "code",
   "execution_count": null,
   "metadata": {},
   "outputs": [],
   "source": []
  },
  {
   "cell_type": "markdown",
   "metadata": {},
   "source": [
    "For a given well and set of deSeq parameters...\n",
    "1. Randomly decide which positions are mutated\n",
    "2. Randomly decide on a count and frequency for the full combination\n",
    "3. Decide if the well is wild type (if the combination is wild type) or dead (if the count is below our expected frequency)\n",
    "4. Build reads with quality scores, lengths, etc. that will generate the target output for the combination\n",
    "    1. Consider all quality filters at this stage! The final product should be a combo of all of them so that we can test everything together.\n",
    "    2. Make sure you mix up whether just the forward read is bad, just the reverse read is bad, etc.\n",
    "5. Count the expected individual read counts and calculate a frequency \n",
    "6. Spike in random reads with insertions and deletions across the sequence\n",
    "\n",
    "Repeat the above for a series of wells to make up a fake dataset. "
   ]
  },
  {
   "cell_type": "code",
   "execution_count": 3,
   "metadata": {},
   "outputs": [],
   "source": [
    "# Define run-specific parameters\n",
    "average_q_cutoff = 25\n",
    "bp_q_cutoff = 30\n",
    "variable_count = 10\n",
    "read_length = 150\n"
   ]
  },
  {
   "cell_type": "code",
   "execution_count": 4,
   "metadata": {},
   "outputs": [],
   "source": [
    "\n",
    "\n",
    "def build_mutant_sequence():\n",
    "    pass"
   ]
  },
  {
   "cell_type": "code",
   "execution_count": 5,
   "metadata": {},
   "outputs": [],
   "source": [
    "def mutate_codon(parent_codon, mut_inds, allowed_mutations):\n",
    "    \n",
    "    # Define the new codon\n",
    "    new_codon = list(parent_codon)\n",
    "    new_allowed = [None] * len(mut_inds)\n",
    "    \n",
    "    # Loop over mutated positions\n",
    "    for i, ind in enumerate(mut_inds):\n",
    "\n",
    "        # Choose the new base\n",
    "        new_base = np.random.choice(tuple(allowed_mutations[i]))\n",
    "        \n",
    "        # Update the codon\n",
    "        new_codon[ind] = new_base\n",
    "        \n",
    "        # Update the allowed mutations\n",
    "        new_allowed[i] = allowed_mutations[i] - set(new_base)\n",
    "\n",
    "    # Return the new codon joined as a string and the updated\n",
    "    # set of allowed codons\n",
    "    return \"\".join(new_codon), new_allowed\n",
    "\n",
    "# Write functions that break up the larger procedure below\n",
    "def find_start_end_muts(nub_seq, nub_len):\n",
    "    \n",
    "    # Get the number of mutations in the starting and ending sequence\n",
    "    nub_inds = np.arange(nub_len)\n",
    "    n_nub_muts = np.random.choice(nub_inds + 1)\n",
    "\n",
    "    # Get the positions of mutations in the starting and ending sequence\n",
    "    nub_mut_pos = np.sort(np.random.choice(nub_inds, size = n_nub_muts, replace = False))\n",
    "\n",
    "    # Get the allowed starting mutations\n",
    "    allowed_nub_muts = [allowed_bases_set - set(nub_seq[mut_pos]) for mut_pos in nub_mut_pos]\n",
    "    \n",
    "    # Return needed info\n",
    "    return nub_mut_pos, allowed_nub_muts    \n",
    "\n",
    "class WellContents():\n",
    "    \n",
    "    # Initialize\n",
    "    def __init__(self, ref_length = None, read_length = 150):\n",
    "        \n",
    "        # Randomly generate a reference sequence\n",
    "        if ref_length == None:\n",
    "            self.ref_length = np.random.randint(*allowed_ref_lengths)\n",
    "        else:\n",
    "            self.ref_length = ref_length\n",
    "        self.ref_seq = \"\".join(np.random.choice(allowed_bases_tup, size = self.ref_length))\n",
    "\n",
    "        # Assign what is in frame and split into codons\n",
    "        self.in_frame = np.random.choice(allowed_in_frame)\n",
    "        chunk_inds = [np.arange(i, i+3) for i in range(self.in_frame, self.ref_length, 3)]\n",
    "        all_chunks = [self.ref_seq[i:i+3] for i in range(self.in_frame, self.ref_length, 3)]\n",
    "        self.codon_bp_inds = [chunk for chunk in chunk_inds if len(chunk) == 3]\n",
    "        self.all_codons = [chunk for chunk in all_chunks if len(chunk) == 3]\n",
    "        self.n_codons = len(self.all_codons)\n",
    "        self.codon_inds = np.arange(self.n_codons)\n",
    "            \n",
    "        # Get the amino acid sequences\n",
    "        joined_readable = \"\".join(self.all_codons)\n",
    "        self.aa_ref_seq = str(Seq(joined_readable).translate())\n",
    "\n",
    "        # Map basepair to codon\n",
    "        readable_bases = len(joined_readable)\n",
    "        self.bp_to_codon = {ind: (ind - self.in_frame)//3 for ind in range(self.in_frame, self.in_frame + readable_bases)}\n",
    "        \n",
    "        # Find the starting and ending sequence nubs\n",
    "        self.start_seq = self.ref_seq[:self.in_frame]\n",
    "        self.start_len = len(self.start_seq)\n",
    "        self.end_seq = all_chunks[-1] if len(all_chunks[-1]) != 3 else \"\"\n",
    "        self.end_len = len(self.end_seq)\n",
    "\n",
    "        # Build variants and make the mutant sequences\n",
    "        self.build_variants()\n",
    "        self.build_mutant_seqs()\n",
    "        \n",
    "        # Get the count array for a perfect sequence\n",
    "        self.read_length = read_length\n",
    "        self.get_perfect_count_array()\n",
    "                \n",
    "    def build_variants(self):\n",
    "        \n",
    "        # Determine how many variants you want in a well\n",
    "        self.n_variants = np.random.randint(*allowed_n_variants)\n",
    "\n",
    "        # Choose the number of mutated positions, the number of mutations\n",
    "        # in each codon, and where in the codon the mutation takes place\n",
    "        n_pos_mutated = np.random.randint(1, self.n_codons) # Total number of mutations\n",
    "        self.codon_mutation_positions = np.sort(np.random.choice(self.codon_inds, size = n_pos_mutated, replace = False)) # Codons to mutate\n",
    "        all_n_mutations = np.random.choice(allowed_n_mutations, size = n_pos_mutated) # Number of mutations at each codon\n",
    "        self.all_codon_mut_pos = [np.sort(np.random.choice(allowed_in_frame, size = n_mutations, replace = False))\n",
    "                                  for n_mutations in all_n_mutations]\n",
    "\n",
    "        # Create a list of allowed mutations at each position\n",
    "        allowed_mutations = [None] * n_pos_mutated\n",
    "        for i, mutation_pos in enumerate(self.codon_mutation_positions):\n",
    "            allowed_mutations[i] = [allowed_bases_set - set(self.all_codons[mutation_pos][mut_base_ind])\n",
    "                                   for mut_base_ind in self.all_codon_mut_pos[i]]\n",
    "\n",
    "        # Check to see if we want to mutate start positions\n",
    "        if self.start_len > 0:\n",
    "             self.start_mut_pos, allowed_start_muts = find_start_end_muts(self.start_seq, self.start_len)\n",
    "\n",
    "        # Check to see if we want to mutate end positions\n",
    "        if self.end_len > 0:\n",
    "            self.end_mut_pos, allowed_end_muts = find_start_end_muts(self.end_seq, self.end_len)\n",
    "\n",
    "        # Loop over the number of variants and generate new sequences\n",
    "        self.new_codons = [\"\"] * self.n_variants\n",
    "        self.new_starts = [\"\"] * self.n_variants\n",
    "        self.new_ends = [\"\"] * self.n_variants\n",
    "        for variant_ind in range(self.n_variants):\n",
    "\n",
    "            # Mutate all codons\n",
    "            new_codon_list = self.all_codons.copy()\n",
    "            for i, (mut_pos, codon_mut_pos, codon_allowed_mutations) in enumerate(zip(self.codon_mutation_positions,\n",
    "                                                                                      self.all_codon_mut_pos,\n",
    "                                                                                      allowed_mutations)):\n",
    "\n",
    "                # Mutate the codon\n",
    "                new_codon, new_allowed = mutate_codon(new_codon_list[mut_pos], codon_mut_pos, codon_allowed_mutations)\n",
    "\n",
    "                # Update the new sequence and new allowed\n",
    "                new_codon_list[mut_pos] = new_codon\n",
    "                allowed_mutations[i] = new_allowed\n",
    "\n",
    "                # Update the list of new sequences\n",
    "                self.new_codons[variant_ind] = new_codon_list\n",
    "\n",
    "            # Check to see if we want to mutate the starting sequence. We will only\n",
    "            # mutate if there is one\n",
    "            if self.start_len > 0:\n",
    "                self.new_starts[variant_ind], allowed_start_muts = mutate_codon(self.start_seq,\n",
    "                                                                                self.start_mut_pos,\n",
    "                                                                                allowed_start_muts)\n",
    "\n",
    "            # Check to see if we want to mutate the end sequence. We will only\n",
    "            # mutate if there is one\n",
    "            if self.end_len > 0:\n",
    "                self.new_ends[variant_ind], allowed_end_muts = mutate_codon(self.end_seq,\n",
    "                                                                            self.end_mut_pos,\n",
    "                                                                            allowed_end_muts)\n",
    "    \n",
    "    # Build sequences from the mutants\n",
    "    def build_mutant_seqs(self):\n",
    "        \n",
    "        # Define lists for holding the new sequences\n",
    "        self.mutant_aas = [None] * self.n_variants\n",
    "        self.mutant_seqs = [None] * self.n_variants\n",
    "        \n",
    "        # Loop over all mutants and append to new lists\n",
    "        for i, (start, mid, end) in enumerate(zip(self.new_starts, self.new_codons, self.new_ends)):\n",
    "\n",
    "            # Get the new translatable sequence\n",
    "            new_translatable = Seq(\"\".join(mid))\n",
    "            \n",
    "            # Complete the mutated sequence\n",
    "            self.mutant_seqs[i] = \"\".join([start, str(new_translatable), end])\n",
    "            \n",
    "            # Complete the translated sequence\n",
    "            self.mutant_aas[i] = str(new_translatable.translate())\n",
    "            \n",
    "    def get_perfect_count_array(self):\n",
    "        \n",
    "        # Get the read lengths of the forward and reverse reads\n",
    "        self.forward_readlength = self.read_length - ADAPTER_LENGTH_F - BARCODE_LENGTH\n",
    "        self.reverse_readlength = self.read_length - ADAPTER_LENGTH_R - BARCODE_LENGTH\n",
    "\n",
    "        # Get the regions where the reads overlap\n",
    "        self.perfect_counts = np.zeros(self.ref_length, dtype = int)\n",
    "        self.perfect_counts[:self.forward_readlength] += 1\n",
    "        self.perfect_counts[(self.ref_length - self.reverse_readlength):] += 1"
   ]
  },
  {
   "cell_type": "markdown",
   "metadata": {},
   "source": [
    "# Start by calculating and testing outputs if no noise is added. Add noise later. Then you just adjust the ideal output based on the noise."
   ]
  },
  {
   "cell_type": "code",
   "execution_count": 6,
   "metadata": {},
   "outputs": [],
   "source": [
    "def build_output_records(average_q_cutoff = 25, bp_q_cutoff = 30,\n",
    "                         variable_count = 10, read_length = 150,\n",
    "                        ref_length = None):\n",
    "    pass\n",
    "\n",
    "average_q_cutoff = 25\n",
    "bp_q_cutoff = 30\n",
    "variable_count = 10\n",
    "read_length = 150\n",
    "ref_length = None\n",
    "\n",
    "np.random.seed(2)\n",
    "\n",
    "# Create a counter to index the input sequences. Create lists to\n",
    "# store all outputs\n",
    "output_counter = 0\n",
    "all_out_f = []\n",
    "all_out_r = []\n",
    "\n",
    "# Build a list for storing the reference sequences\n",
    "output_cols = [\"PlateName\", \"IndexPlate\", \"Well\", \"ReferenceSequence\",\n",
    "              \"InFrameBase\", \"BpIndStart\", \"AaIndStart\"]\n",
    "ref_seq_file_array = [None] * len(barcode_df)\n",
    "wells = ref_seq_file_array.copy()\n",
    "\n",
    "# Loop over the barcode plate\n",
    "for barcode_ind, row in enumerate(barcode_df.itertuples(index = False)):\n",
    "        \n",
    "    # Create a well with specific content\n",
    "    well = WellContents(ref_length = ref_length, read_length = read_length)   \n",
    "    wells[barcode_ind] = well\n",
    "    \n",
    "    # Populate the reference sequence row\n",
    "    ref_seq_file_array[barcode_ind] = [row.IndexPlate + \"_TEST\", row.IndexPlate, row.Well,\n",
    "                                      well.ref_seq, well.in_frame + 1, 1232, 23]\n",
    "    \n",
    "    # Define the allowed range of quality scores\n",
    "    high_q_range = np.arange(bp_q_cutoff, 40)\n",
    "\n",
    "    # Decide on the number of sequences in the well\n",
    "    n_seqs_in_well = np.random.randint(*allowed_n_reads)\n",
    "\n",
    "    # Get the number of times each sequence will be represented\n",
    "    n_reps = n_seqs_in_well // well.n_variants\n",
    "    remainder = n_seqs_in_well % well.n_variants\n",
    "    total_counts_by_seq = np.full(well.n_variants, n_reps)\n",
    "    total_counts_by_seq[0] += remainder\n",
    "\n",
    "    # Loop over the sequences and build both the expected output\n",
    "    # and the desired input\n",
    "    output_records_f = [None] * n_seqs_in_well\n",
    "    output_records_r = output_records_f.copy()\n",
    "    temp_counter = 0\n",
    "    for total_counts, mutant_seq, mutant_aa_seq in zip(total_counts_by_seq, well.mutant_seqs, well.mutant_aas):\n",
    "        \n",
    "        # Build outputs\n",
    "        for _ in range(total_counts):\n",
    "\n",
    "            # Pull the forward sequence\n",
    "            forward_seq_unfinished = mutant_seq[:well.forward_readlength]\n",
    "            rev_seq_unfinished = Seq(mutant_seq[(well.ref_length - well.reverse_readlength):])\n",
    "            rev_seq_unfinished = str(rev_seq_unfinished.reverse_complement())\n",
    "\n",
    "            # Finish the sequences\n",
    "            finished_f = Seq(\"\".join((row.FBC, F_ADAPTER, forward_seq_unfinished)))\n",
    "            finished_r = Seq(\"\".join((row.RBC, R_ADAPTER, rev_seq_unfinished)))\n",
    "\n",
    "            # Create sequence records\n",
    "            output_records_f[temp_counter] = SeqRecord(finished_f,\n",
    "                                                       id = id_template.substitute(num = output_counter),\n",
    "                                                       letter_annotations = {\"phred_quality\": np.random.choice(high_q_range, len(finished_f))})\n",
    "            output_records_r[temp_counter] = SeqRecord(finished_r,\n",
    "                                                       id = id_template.substitute(num = output_counter),\n",
    "                                                       letter_annotations = {\"phred_quality\": np.random.choice(high_q_range, len(finished_r))})\n",
    "\n",
    "            # Update counters\n",
    "            output_counter += 1 \n",
    "            temp_counter += 1\n",
    "            \n",
    "    # Extend the overall records\n",
    "    all_out_f.extend(output_records_f)\n",
    "    all_out_r.extend(output_records_r)            \n",
    "    \n",
    "# Save results after shuffling order of output records\n",
    "shuffle(all_out_f)\n",
    "shuffle(all_out_r)\n",
    "with open(\"deSeqValidation/Test_R1_001.fastq\", \"w\") as f:\n",
    "    SeqIO.write(all_out_f, f, \"fastq\")\n",
    "with open(\"deSeqValidation/Test_R2_001.fastq\", \"w\") as f:\n",
    "    SeqIO.write(all_out_r, f, \"fastq\")\n",
    "output_df = pd.DataFrame(ref_seq_file_array, columns = output_cols)\n",
    "output_df.to_csv(\"./deSeqValidation/TestRefSeq.csv\", index = False)"
   ]
  },
  {
   "cell_type": "code",
   "execution_count": 22,
   "metadata": {},
   "outputs": [
    {
     "data": {
      "text/plain": [
       "32"
      ]
     },
     "execution_count": 22,
     "metadata": {},
     "output_type": "execute_result"
    }
   ],
   "source": [
    "len(wells[6].codon_mutation_positions)"
   ]
  },
  {
   "cell_type": "code",
   "execution_count": null,
   "metadata": {},
   "outputs": [],
   "source": [
    "w"
   ]
  },
  {
   "cell_type": "code",
   "execution_count": 8,
   "metadata": {},
   "outputs": [],
   "source": [
    "f_bc, r_bc = barcode_df.loc[(barcode_df.IndexPlate == \"DI01\")&(barcode_df.Well == \"A01\"), [\"FBC\", \"RBC\"]].values.flatten()\n",
    "id_counter = 0\n",
    "\n",
    "\n",
    "    \n",
    "#     # Grab the mutated bases\n",
    "#     mutant_bases = [[base_ind, orig_base, new_base] for \n",
    "#                     base_ind, (orig_base, new_base) in\n",
    "#                     enumerate(zip(test.ref_seq, mutant_seq))\n",
    "#                    if orig_base != new_base]\n",
    "    \n",
    "#     # Grab the mutated amino acids\n",
    "#     mutant_aas = [[aa_ind, orig_aa, new_aa] for \n",
    "#                  aa_ind, (orig_aa, new_aa) in\n",
    "#                  enumerate(zip(test.aa_ref_seq, mutant_aa_seq))\n",
    "#                  if orig_aa != new_aa]\n",
    "    \n",
    "#     # Grab the expected counts for the bases\n",
    "#     expected_base_counts = [test.perfect_counts[mutant_ind] for mutant_ind, _, _ in mutant_bases]\n",
    "    \n",
    "#     Get the expected counts\n"
   ]
  },
  {
   "cell_type": "code",
   "execution_count": 9,
   "metadata": {},
   "outputs": [
    {
     "data": {
      "text/plain": [
       "150"
      ]
     },
     "execution_count": 9,
     "metadata": {},
     "output_type": "execute_result"
    }
   ],
   "source": [
    "len(output_records_f[0].letter_annotations[\"phred_quality\"])"
   ]
  },
  {
   "cell_type": "code",
   "execution_count": 10,
   "metadata": {},
   "outputs": [
    {
     "data": {
      "text/plain": [
       "[SeqRecord(seq=Seq('CCTAATCCACCCAAGACCACTCTCCGGAAATCCCGTTTAGGCAGACGGAGACCA...TTC'), id='@M06418:33:000000000-CRL6Y:1:1101:0:38350 1:N:0:162', name='<unknown name>', description='<unknown description>', dbxrefs=[]),\n",
       " SeqRecord(seq=Seq('CCTAATCCACCCAAGACCACTCTCCGGAAATCCCGTTTAGGCAGACGGAGACCA...TTC'), id='@M06418:33:000000000-CRL6Y:1:1101:0:38351 1:N:0:162', name='<unknown name>', description='<unknown description>', dbxrefs=[]),\n",
       " SeqRecord(seq=Seq('CCTAATCCACCCAAGACCACTCTCCGGAAATCCCGTTTAGGCAGACGGAGACCA...TTC'), id='@M06418:33:000000000-CRL6Y:1:1101:0:38352 1:N:0:162', name='<unknown name>', description='<unknown description>', dbxrefs=[]),\n",
       " SeqRecord(seq=Seq('CCTAATCCACCCAAGACCACTCTCCGGAAATCCCGTTTAGGCAGACGGAGACCA...TTC'), id='@M06418:33:000000000-CRL6Y:1:1101:0:38353 1:N:0:162', name='<unknown name>', description='<unknown description>', dbxrefs=[]),\n",
       " SeqRecord(seq=Seq('CCTAATCCACCCAAGACCACTCTCCGGAAATCCCGTTTAGGCAGACGGAGACCA...TTC'), id='@M06418:33:000000000-CRL6Y:1:1101:0:38354 1:N:0:162', name='<unknown name>', description='<unknown description>', dbxrefs=[]),\n",
       " SeqRecord(seq=Seq('CCTAATCCACCCAAGACCACTCTCCGGAAATCCCGTTTAGGCAGACGGAGACCA...TTC'), id='@M06418:33:000000000-CRL6Y:1:1101:0:38355 1:N:0:162', name='<unknown name>', description='<unknown description>', dbxrefs=[]),\n",
       " SeqRecord(seq=Seq('CCTAATCCACCCAAGACCACTCTCCGGAAATCCCGTTTAGGCAGACGGAGACCA...TTC'), id='@M06418:33:000000000-CRL6Y:1:1101:0:38356 1:N:0:162', name='<unknown name>', description='<unknown description>', dbxrefs=[]),\n",
       " SeqRecord(seq=Seq('CCTAATCCACCCAAGACCACTCTCCGGAAATCCCGTTTAGGCAGACGGAGACCA...TTC'), id='@M06418:33:000000000-CRL6Y:1:1101:0:38357 1:N:0:162', name='<unknown name>', description='<unknown description>', dbxrefs=[]),\n",
       " SeqRecord(seq=Seq('CCTAATCCACCCAAGACCACTCTCCGGAAATCCCGTTTAGGCAGACGGAGACCA...TTC'), id='@M06418:33:000000000-CRL6Y:1:1101:0:38358 1:N:0:162', name='<unknown name>', description='<unknown description>', dbxrefs=[]),\n",
       " SeqRecord(seq=Seq('CCTAATCCACCCAAGACCACTCTCCGGAAATCCCGTTTAGGCAGACGGAGACCA...TTC'), id='@M06418:33:000000000-CRL6Y:1:1101:0:38359 1:N:0:162', name='<unknown name>', description='<unknown description>', dbxrefs=[]),\n",
       " SeqRecord(seq=Seq('CCTAATCCACCCAAGACCACTCTCCGGAAATCCCGTTTAGGCAGACGGAGACCA...TTC'), id='@M06418:33:000000000-CRL6Y:1:1101:0:38360 1:N:0:162', name='<unknown name>', description='<unknown description>', dbxrefs=[]),\n",
       " SeqRecord(seq=Seq('CCTAATCCACCCAAGACCACTCTCCGGAAATCCCGTTTAGGCAGACGGAGACCA...TTC'), id='@M06418:33:000000000-CRL6Y:1:1101:0:38361 1:N:0:162', name='<unknown name>', description='<unknown description>', dbxrefs=[]),\n",
       " SeqRecord(seq=Seq('CCTAATCCACCCAAGACCACTCTCCGGAAATCCCGTTTAGGCAGACGGAGACCA...TTC'), id='@M06418:33:000000000-CRL6Y:1:1101:0:38362 1:N:0:162', name='<unknown name>', description='<unknown description>', dbxrefs=[]),\n",
       " SeqRecord(seq=Seq('CCTAATCCACCCAAGACCACTCTCCGGAAATCCCGTTTAGGCAGACGGAGACCA...TTC'), id='@M06418:33:000000000-CRL6Y:1:1101:0:38363 1:N:0:162', name='<unknown name>', description='<unknown description>', dbxrefs=[]),\n",
       " SeqRecord(seq=Seq('CCTAATCCACCCAAGACCACTCTCCGGAAATCCCGTTTAGGCAGACGGAGACCA...TTC'), id='@M06418:33:000000000-CRL6Y:1:1101:0:38364 1:N:0:162', name='<unknown name>', description='<unknown description>', dbxrefs=[]),\n",
       " SeqRecord(seq=Seq('CCTAATCCACCCAAGACCACTCTCCGGAAATCCCGTTTAGGCAGACGGAGACCA...TTC'), id='@M06418:33:000000000-CRL6Y:1:1101:0:38365 1:N:0:162', name='<unknown name>', description='<unknown description>', dbxrefs=[]),\n",
       " SeqRecord(seq=Seq('CCTAATCCACCCAAGACCACTCTCCGGAAATCCCGTTTAGGCAGACGGAGACCA...TTC'), id='@M06418:33:000000000-CRL6Y:1:1101:0:38366 1:N:0:162', name='<unknown name>', description='<unknown description>', dbxrefs=[]),\n",
       " SeqRecord(seq=Seq('CCTAATCCACCCAAGACCACTCTCCGGAAATCCCGTTTAGGCAGACGGAGACCA...TTC'), id='@M06418:33:000000000-CRL6Y:1:1101:0:38367 1:N:0:162', name='<unknown name>', description='<unknown description>', dbxrefs=[]),\n",
       " SeqRecord(seq=Seq('CCTAATCCACCCAAGACCACTCTCCGGAAATCCCGTTTAGGCAGACGGAGACCA...TTC'), id='@M06418:33:000000000-CRL6Y:1:1101:0:38368 1:N:0:162', name='<unknown name>', description='<unknown description>', dbxrefs=[]),\n",
       " SeqRecord(seq=Seq('CCTAATCCACCCAAGACCACTCTCCGGAAATCCCGTTTAGGCAGACGGAGACCA...TTC'), id='@M06418:33:000000000-CRL6Y:1:1101:0:38369 1:N:0:162', name='<unknown name>', description='<unknown description>', dbxrefs=[]),\n",
       " SeqRecord(seq=Seq('CCTAATCCACCCAAGACCACTCTCCGGAAATCCCGTTTAGGCAGACGGAGACCA...TTC'), id='@M06418:33:000000000-CRL6Y:1:1101:0:38370 1:N:0:162', name='<unknown name>', description='<unknown description>', dbxrefs=[]),\n",
       " SeqRecord(seq=Seq('CCTAATCCACCCAAGACCACTCTCCGGAAATCCCGTTTAGGCAGACGGAGACCA...TTC'), id='@M06418:33:000000000-CRL6Y:1:1101:0:38371 1:N:0:162', name='<unknown name>', description='<unknown description>', dbxrefs=[]),\n",
       " SeqRecord(seq=Seq('CCTAATCCACCCAAGACCACTCTCCGGAAATCCCGTTTAGGCAGACGGAGACCA...TTC'), id='@M06418:33:000000000-CRL6Y:1:1101:0:38372 1:N:0:162', name='<unknown name>', description='<unknown description>', dbxrefs=[]),\n",
       " SeqRecord(seq=Seq('CCTAATCCACCCAAGACCACTCTCCGGAAATCCCGTTTAGGCAGACGGCACCCA...TTC'), id='@M06418:33:000000000-CRL6Y:1:1101:0:38373 1:N:0:162', name='<unknown name>', description='<unknown description>', dbxrefs=[]),\n",
       " SeqRecord(seq=Seq('CCTAATCCACCCAAGACCACTCTCCGGAAATCCCGTTTAGGCAGACGGCACCCA...TTC'), id='@M06418:33:000000000-CRL6Y:1:1101:0:38374 1:N:0:162', name='<unknown name>', description='<unknown description>', dbxrefs=[]),\n",
       " SeqRecord(seq=Seq('CCTAATCCACCCAAGACCACTCTCCGGAAATCCCGTTTAGGCAGACGGCACCCA...TTC'), id='@M06418:33:000000000-CRL6Y:1:1101:0:38375 1:N:0:162', name='<unknown name>', description='<unknown description>', dbxrefs=[]),\n",
       " SeqRecord(seq=Seq('CCTAATCCACCCAAGACCACTCTCCGGAAATCCCGTTTAGGCAGACGGCACCCA...TTC'), id='@M06418:33:000000000-CRL6Y:1:1101:0:38376 1:N:0:162', name='<unknown name>', description='<unknown description>', dbxrefs=[]),\n",
       " SeqRecord(seq=Seq('CCTAATCCACCCAAGACCACTCTCCGGAAATCCCGTTTAGGCAGACGGCACCCA...TTC'), id='@M06418:33:000000000-CRL6Y:1:1101:0:38377 1:N:0:162', name='<unknown name>', description='<unknown description>', dbxrefs=[]),\n",
       " SeqRecord(seq=Seq('CCTAATCCACCCAAGACCACTCTCCGGAAATCCCGTTTAGGCAGACGGCACCCA...TTC'), id='@M06418:33:000000000-CRL6Y:1:1101:0:38378 1:N:0:162', name='<unknown name>', description='<unknown description>', dbxrefs=[]),\n",
       " SeqRecord(seq=Seq('CCTAATCCACCCAAGACCACTCTCCGGAAATCCCGTTTAGGCAGACGGCACCCA...TTC'), id='@M06418:33:000000000-CRL6Y:1:1101:0:38379 1:N:0:162', name='<unknown name>', description='<unknown description>', dbxrefs=[]),\n",
       " SeqRecord(seq=Seq('CCTAATCCACCCAAGACCACTCTCCGGAAATCCCGTTTAGGCAGACGGCACCCA...TTC'), id='@M06418:33:000000000-CRL6Y:1:1101:0:38380 1:N:0:162', name='<unknown name>', description='<unknown description>', dbxrefs=[]),\n",
       " SeqRecord(seq=Seq('CCTAATCCACCCAAGACCACTCTCCGGAAATCCCGTTTAGGCAGACGGCACCCA...TTC'), id='@M06418:33:000000000-CRL6Y:1:1101:0:38381 1:N:0:162', name='<unknown name>', description='<unknown description>', dbxrefs=[]),\n",
       " SeqRecord(seq=Seq('CCTAATCCACCCAAGACCACTCTCCGGAAATCCCGTTTAGGCAGACGGCACCCA...TTC'), id='@M06418:33:000000000-CRL6Y:1:1101:0:38382 1:N:0:162', name='<unknown name>', description='<unknown description>', dbxrefs=[]),\n",
       " SeqRecord(seq=Seq('CCTAATCCACCCAAGACCACTCTCCGGAAATCCCGTTTAGGCAGACGGCACCCA...TTC'), id='@M06418:33:000000000-CRL6Y:1:1101:0:38383 1:N:0:162', name='<unknown name>', description='<unknown description>', dbxrefs=[]),\n",
       " SeqRecord(seq=Seq('CCTAATCCACCCAAGACCACTCTCCGGAAATCCCGTTTAGGCAGACGGCACCCA...TTC'), id='@M06418:33:000000000-CRL6Y:1:1101:0:38384 1:N:0:162', name='<unknown name>', description='<unknown description>', dbxrefs=[]),\n",
       " SeqRecord(seq=Seq('CCTAATCCACCCAAGACCACTCTCCGGAAATCCCGTTTAGGCAGACGGCACCCA...TTC'), id='@M06418:33:000000000-CRL6Y:1:1101:0:38385 1:N:0:162', name='<unknown name>', description='<unknown description>', dbxrefs=[]),\n",
       " SeqRecord(seq=Seq('CCTAATCCACCCAAGACCACTCTCCGGAAATCCCGTTTAGGCAGACGGCACCCA...TTC'), id='@M06418:33:000000000-CRL6Y:1:1101:0:38386 1:N:0:162', name='<unknown name>', description='<unknown description>', dbxrefs=[]),\n",
       " SeqRecord(seq=Seq('CCTAATCCACCCAAGACCACTCTCCGGAAATCCCGTTTAGGCAGACGGCACCCA...TTC'), id='@M06418:33:000000000-CRL6Y:1:1101:0:38387 1:N:0:162', name='<unknown name>', description='<unknown description>', dbxrefs=[]),\n",
       " SeqRecord(seq=Seq('CCTAATCCACCCAAGACCACTCTCCGGAAATCCCGTTTAGGCAGACGGCACCCA...TTC'), id='@M06418:33:000000000-CRL6Y:1:1101:0:38388 1:N:0:162', name='<unknown name>', description='<unknown description>', dbxrefs=[]),\n",
       " SeqRecord(seq=Seq('CCTAATCCACCCAAGACCACTCTCCGGAAATCCCGTTTAGGCAGACGGCACCCA...TTC'), id='@M06418:33:000000000-CRL6Y:1:1101:0:38389 1:N:0:162', name='<unknown name>', description='<unknown description>', dbxrefs=[]),\n",
       " SeqRecord(seq=Seq('CCTAATCCACCCAAGACCACTCTCCGGAAATCCCGTTTAGGCAGACGGCACCCA...TTC'), id='@M06418:33:000000000-CRL6Y:1:1101:0:38390 1:N:0:162', name='<unknown name>', description='<unknown description>', dbxrefs=[]),\n",
       " SeqRecord(seq=Seq('CCTAATCCACCCAAGACCACTCTCCGGAAATCCCGTTTAGGCAGACGGCACCCA...TTC'), id='@M06418:33:000000000-CRL6Y:1:1101:0:38391 1:N:0:162', name='<unknown name>', description='<unknown description>', dbxrefs=[]),\n",
       " SeqRecord(seq=Seq('CCTAATCCACCCAAGACCACTCTCCGGAAATCCCGTTTAGGCAGACGGCACCCA...TTC'), id='@M06418:33:000000000-CRL6Y:1:1101:0:38392 1:N:0:162', name='<unknown name>', description='<unknown description>', dbxrefs=[]),\n",
       " SeqRecord(seq=Seq('CCTAATCCACCCAAGACCACTCTCCGGAAATCCCGTTTAGGCAGACGGCACCCA...TTC'), id='@M06418:33:000000000-CRL6Y:1:1101:0:38393 1:N:0:162', name='<unknown name>', description='<unknown description>', dbxrefs=[]),\n",
       " SeqRecord(seq=Seq('CCTAATCCACCCAAGACCACTCTCCGGAAATCCCGTTTAGGCAGACGGCACCCA...TTC'), id='@M06418:33:000000000-CRL6Y:1:1101:0:38394 1:N:0:162', name='<unknown name>', description='<unknown description>', dbxrefs=[]),\n",
       " SeqRecord(seq=Seq('CCTAATCCACCCAAGACCACTCTCCGGAAATCCCGTTTAGGCAGACGGCACCCA...TTC'), id='@M06418:33:000000000-CRL6Y:1:1101:0:38395 1:N:0:162', name='<unknown name>', description='<unknown description>', dbxrefs=[])]"
      ]
     },
     "execution_count": 10,
     "metadata": {},
     "output_type": "execute_result"
    }
   ],
   "source": [
    "output_records_f"
   ]
  },
  {
   "cell_type": "code",
   "execution_count": 11,
   "metadata": {},
   "outputs": [],
   "source": [
    "\n",
    "# Loop over each variable sequence\n",
    "\n",
    "\n",
    "# Create a counter for the number of sequences in a well\n",
    "\n",
    "\n",
    "\n",
    "# Determine codons with poor quality bases that we mutated.\n",
    "# bad_base_test = np.random.rand(len(test.codon_mutation_positions)) < bad_base_freq\n",
    "# codons_with_bad_base = test.codon_mutation_positions[bad_base_test]\n",
    "\n",
    "\n",
    "# Determine the bad bases for the variable each sequence.\n",
    "# bad_base_checks = np.random.rand(n_seqs_in_well, test.ref_length) < bad_base_freq\n",
    "\n",
    "# Decide if there are any bad bases in the sequences\n",
    "# bad_base_checker = np.random.rand(n_seqs_in_well) < bad_base_in_seq_freq\n",
    "\n",
    "# Loop over the bad base checker and decide (a) the number of bad\n",
    "# positions and (b) where those positions are. \n",
    "\n",
    "# After sequences are split, decide if we want to tank just one of them (e.g.\n",
    "# by adding insertions or deletions or dropping the q-score very low)\n"
   ]
  },
  {
   "cell_type": "code",
   "execution_count": 12,
   "metadata": {},
   "outputs": [
    {
     "data": {
      "text/plain": [
       "46"
      ]
     },
     "execution_count": 12,
     "metadata": {},
     "output_type": "execute_result"
    }
   ],
   "source": [
    "n_seqs_in_well"
   ]
  },
  {
   "cell_type": "code",
   "execution_count": 13,
   "metadata": {},
   "outputs": [
    {
     "data": {
      "text/plain": [
       "23"
      ]
     },
     "execution_count": 13,
     "metadata": {},
     "output_type": "execute_result"
    }
   ],
   "source": [
    "n_reps"
   ]
  },
  {
   "cell_type": "code",
   "execution_count": 14,
   "metadata": {},
   "outputs": [
    {
     "data": {
      "text/plain": [
       "array([23, 23])"
      ]
     },
     "execution_count": 14,
     "metadata": {},
     "output_type": "execute_result"
    }
   ],
   "source": [
    "total_counts_by_seq"
   ]
  },
  {
   "cell_type": "code",
   "execution_count": 15,
   "metadata": {},
   "outputs": [
    {
     "ename": "NameError",
     "evalue": "name 'codons_with_bad_base' is not defined",
     "output_type": "error",
     "traceback": [
      "\u001b[0;31m---------------------------------------------------------------------------\u001b[0m",
      "\u001b[0;31mNameError\u001b[0m                                 Traceback (most recent call last)",
      "\u001b[0;32m<ipython-input-15-496b9ce8143e>\u001b[0m in \u001b[0;36m<module>\u001b[0;34m\u001b[0m\n\u001b[0;32m----> 1\u001b[0;31m \u001b[0mcodons_with_bad_base\u001b[0m\u001b[0;34m\u001b[0m\u001b[0;34m\u001b[0m\u001b[0m\n\u001b[0m",
      "\u001b[0;31mNameError\u001b[0m: name 'codons_with_bad_base' is not defined"
     ]
    }
   ],
   "source": [
    "codons_with_bad_base"
   ]
  },
  {
   "cell_type": "code",
   "execution_count": null,
   "metadata": {},
   "outputs": [],
   "source": [
    "# Get the overall number of reads that we want for the well\n",
    "total_possible_reads = np.random.randint(*allowed_n_reads)\n",
    "\n",
    "# Decide if the well is dead. Evaluate possible conditions to make it dead.\n",
    "if random.rand() < dead_well_freq:\n",
    "    \n",
    "    # Choose \"1\", \"2\", or \"3\". \"1\" means make no usable reads (either by insertion, deletion\n",
    "    # or low average read quality)\n",
    "\n",
    "# Decide if we want this to be wild type \n",
    "\n"
   ]
  },
  {
   "cell_type": "code",
   "execution_count": null,
   "metadata": {},
   "outputs": [],
   "source": [
    "# Make a kill reads function that either makes an insertion/deletion\n",
    "# or else just wipes out functionality"
   ]
  },
  {
   "cell_type": "code",
   "execution_count": null,
   "metadata": {},
   "outputs": [],
   "source": [
    "# Now we need a function that...\n",
    "# 1. Determines the overall count of each read\n",
    "# 2. Assigns a target frequency for each position\n",
    "# 3. Assigns a target count for each position\n",
    "# 4. Breaks into forward and reverse reads\n",
    "# 5. Loops over reads and assigns quality scores to the different bases\n",
    "#"
   ]
  },
  {
   "cell_type": "code",
   "execution_count": null,
   "metadata": {},
   "outputs": [],
   "source": [
    "build_reference_and_variants()"
   ]
  },
  {
   "cell_type": "code",
   "execution_count": null,
   "metadata": {},
   "outputs": [],
   "source": []
  }
 ],
 "metadata": {
  "kernelspec": {
   "display_name": "Python 3",
   "language": "python",
   "name": "python3"
  },
  "language_info": {
   "codemirror_mode": {
    "name": "ipython",
    "version": 3
   },
   "file_extension": ".py",
   "mimetype": "text/x-python",
   "name": "python",
   "nbconvert_exporter": "python",
   "pygments_lexer": "ipython3",
   "version": "3.7.6"
  }
 },
 "nbformat": 4,
 "nbformat_minor": 4
}
