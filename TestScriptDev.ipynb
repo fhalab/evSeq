{
 "cells": [
  {
   "cell_type": "code",
   "execution_count": 1,
   "metadata": {},
   "outputs": [],
   "source": [
    "# Import deSeq globals\n",
    "from Code.Globals import BARCODE_LENGTH, ADAPTER_LENGTH_F, ADAPTER_LENGTH_R\n",
    "\n",
    "# Import required modules\n",
    "import numpy as np\n",
    "import pandas as pd\n",
    "from string import Template\n",
    "from random import shuffle\n",
    "\n",
    "from Bio.Seq import Seq\n",
    "from Bio.SeqRecord import SeqRecord\n",
    "from Bio import SeqIO"
   ]
  },
  {
   "cell_type": "code",
   "execution_count": 2,
   "metadata": {},
   "outputs": [],
   "source": [
    "# Define the allowed bases\n",
    "allowed_bases_tup = (\"A\", \"T\", \"C\", \"G\")\n",
    "allowed_bases_set = set(allowed_bases_tup)\n",
    "\n",
    "# Define potential \"in frame\" indices and allowed\n",
    "# indices for making mutations within a codon\n",
    "allowed_in_frame = (0, 1, 2)\n",
    "allowed_n_mutations = (1, 2, 3)\n",
    "\n",
    "# Define the frequency with which no mutations are made\n",
    "wt_freq = 0.05\n",
    "\n",
    "# Define the allowed lengths of reference sequences\n",
    "max_ref_length = 601\n",
    "\n",
    "# Define the allowed number of reads in a well\n",
    "allowed_n_reads = (0, 101)\n",
    "\n",
    "# Determine how many variants are allowed in a well\n",
    "allowed_n_variants = (1, 4)\n",
    "\n",
    "# Determine the frequency with which we have dead wells\n",
    "dead_well_freq = 0.05\n",
    "\n",
    "# Define the probability that any given base is bad\n",
    "bad_base_freq = 0.05\n",
    "\n",
    "# Load the barcode df\n",
    "barcode_df = pd.read_csv(\"./Code/IndexMap.csv\")\n",
    "\n",
    "# Define a forward ID template\n",
    "id_template = Template(\"@M06418:33:000000000-CRL6Y:1:1101:0:$num 1:N:0:162\")\n",
    "\n",
    "# Define the forward and reverse adapters\n",
    "F_ADAPTER = \"CACCCAAGACCACTCTCCGG\"\n",
    "R_ADAPTER = \"CGGTGTGCGAAGTAGGTGC\""
   ]
  },
  {
   "cell_type": "markdown",
   "metadata": {},
   "source": [
    "This notebook is used to build test cases for the new deSeq pipeline. The main things to test are:\n",
    "1. The outputs of files are as we expect.\n",
    "2. Everything works stably.\n",
    "\n",
    "We will build both general test conditions as well as make a stress test which randomly generates input conditions and records instances of failure."
   ]
  },
  {
   "cell_type": "markdown",
   "metadata": {},
   "source": [
    "Conditions in particular to look at:\n",
    "1. How well does deSeq handle (0) imperfectly overlapping reads (e.g. reads go into the barcode regions) (1) perfectly overlapping reads (2) overlapping reads (3) perfectly non-overlapping (where the forward ends just before reverse starts) and (4) non-overlapping.\n"
   ]
  },
  {
   "cell_type": "code",
   "execution_count": null,
   "metadata": {},
   "outputs": [],
   "source": []
  },
  {
   "cell_type": "markdown",
   "metadata": {},
   "source": [
    "For a given well and set of deSeq parameters...\n",
    "1. Randomly decide which positions are mutated\n",
    "2. Randomly decide on a count and frequency for the full combination\n",
    "3. Decide if the well is wild type (if the combination is wild type) or dead (if the count is below our expected frequency)\n",
    "4. Build reads with quality scores, lengths, etc. that will generate the target output for the combination\n",
    "    1. Consider all quality filters at this stage! The final product should be a combo of all of them so that we can test everything together.\n",
    "    2. Make sure you mix up whether just the forward read is bad, just the reverse read is bad, etc.\n",
    "5. Count the expected individual read counts and calculate a frequency \n",
    "6. Spike in random reads with insertions and deletions across the sequence\n",
    "\n",
    "Repeat the above for a series of wells to make up a fake dataset. "
   ]
  },
  {
   "cell_type": "code",
   "execution_count": 3,
   "metadata": {},
   "outputs": [],
   "source": [
    "# Define run-specific parameters\n",
    "average_q_cutoff = 25\n",
    "bp_q_cutoff = 30\n",
    "variable_count = 10\n",
    "read_length = 150\n"
   ]
  },
  {
   "cell_type": "code",
   "execution_count": 4,
   "metadata": {},
   "outputs": [],
   "source": [
    "\n",
    "\n",
    "def build_mutant_sequence():\n",
    "    pass"
   ]
  },
  {
   "cell_type": "code",
   "execution_count": 34,
   "metadata": {},
   "outputs": [],
   "source": [
    "def mutate_codon(parent_codon, mut_inds, allowed_mutations):\n",
    "    \n",
    "    # Define the new codon\n",
    "    new_codon = list(parent_codon)\n",
    "    new_allowed = [None] * len(mut_inds)\n",
    "    \n",
    "    # Loop over mutated positions\n",
    "    for i, ind in enumerate(mut_inds):\n",
    "\n",
    "        # Choose the new base\n",
    "        new_base = np.random.choice(tuple(allowed_mutations[i]))\n",
    "        \n",
    "        # Update the codon\n",
    "        new_codon[ind] = new_base\n",
    "        \n",
    "        # Update the allowed mutations\n",
    "        new_allowed[i] = allowed_mutations[i] - set(new_base)\n",
    "\n",
    "    # Return the new codon joined as a string and the updated\n",
    "    # set of allowed codons\n",
    "    return \"\".join(new_codon), new_allowed\n",
    "\n",
    "# Write functions that break up the larger procedure below\n",
    "def find_start_end_muts(nub_seq, nub_len):\n",
    "    \n",
    "    # Get the number of mutations in the starting and ending sequence\n",
    "    nub_inds = np.arange(nub_len)\n",
    "    n_nub_muts = np.random.choice(nub_inds + 1)\n",
    "\n",
    "    # Get the positions of mutations in the starting and ending sequence\n",
    "    nub_mut_pos = np.sort(np.random.choice(nub_inds, size = n_nub_muts, replace = False))\n",
    "\n",
    "    # Get the allowed starting mutations\n",
    "    allowed_nub_muts = [allowed_bases_set - set(nub_seq[mut_pos]) for mut_pos in nub_mut_pos]\n",
    "    \n",
    "    # Return needed info\n",
    "    return nub_mut_pos, allowed_nub_muts    \n",
    "\n",
    "class WellContents():\n",
    "    \n",
    "    # Initialize\n",
    "    def __init__(self, ref_length = None, read_length = 150):\n",
    "        \n",
    "        # Randomly generate a reference sequence\n",
    "        if ref_length == None:\n",
    "            self.ref_length = np.random.randint(read_length - 26, max_ref_length)\n",
    "        else:\n",
    "            self.ref_length = ref_length\n",
    "        self.ref_seq = \"\".join(np.random.choice(allowed_bases_tup, size = self.ref_length))\n",
    "\n",
    "        # Assign what is in frame and split into codons\n",
    "        self.in_frame = np.random.choice(allowed_in_frame)\n",
    "        chunk_inds = [np.arange(i, i+3) for i in range(self.in_frame, self.ref_length, 3)]\n",
    "        all_chunks = [self.ref_seq[i:i+3] for i in range(self.in_frame, self.ref_length, 3)]\n",
    "        self.codon_bp_inds = [chunk for chunk in chunk_inds if len(chunk) == 3]\n",
    "        self.all_codons = [chunk for chunk in all_chunks if len(chunk) == 3]\n",
    "        self.n_codons = len(self.all_codons)\n",
    "        self.codon_inds = np.arange(self.n_codons)\n",
    "            \n",
    "        # Get the amino acid sequences\n",
    "        joined_readable = \"\".join(self.all_codons)\n",
    "        self.aa_ref_seq = str(Seq(joined_readable).translate())\n",
    "\n",
    "        # Map basepair to codon\n",
    "        readable_bases = len(joined_readable)\n",
    "        self.bp_to_codon = {ind: (ind - self.in_frame)//3 for ind in range(self.in_frame, self.in_frame + readable_bases)}\n",
    "        \n",
    "        # Map codon to basepair\n",
    "        self.codon_to_bp = {}\n",
    "        bp_counter = self.in_frame\n",
    "        for codon_ind, codon in enumerate(self.all_codons):\n",
    "            self.codon_to_bp[codon_ind] = np.array([bp_counter, bp_counter + 1, bp_counter + 2])\n",
    "            bp_counter += 3\n",
    "        \n",
    "        # Find the starting and ending sequence nubs\n",
    "        self.start_seq = self.ref_seq[:self.in_frame]\n",
    "        self.start_len = len(self.start_seq)\n",
    "        self.end_seq = all_chunks[-1] if len(all_chunks[-1]) != 3 else \"\"\n",
    "        self.end_len = len(self.end_seq)\n",
    "\n",
    "        # Build variants and make the mutant sequences\n",
    "        self.build_variants()\n",
    "        self.build_mutant_seqs()\n",
    "        \n",
    "        # Get the count array for a perfect sequence\n",
    "        self.read_length = read_length\n",
    "        self.get_readable_regions()\n",
    "        self.get_perfect_count_array()\n",
    "        \n",
    "        # Find the variable positions\n",
    "        self.find_variable_positions()\n",
    "                \n",
    "    def build_variants(self):\n",
    "        \n",
    "        # Determine how many variants you want in a well\n",
    "        self.n_variants = np.random.randint(*allowed_n_variants)\n",
    "\n",
    "        # Choose the number of mutated positions, the number of mutations\n",
    "        # in each codon, and where in the codon the mutation takes place\n",
    "        n_pos_mutated = np.random.randint(1, int(self.n_codons * 0.1)) # Total number of mutations\n",
    "        self.codon_mutation_positions = np.sort(np.random.choice(self.codon_inds, size = n_pos_mutated, replace = False)) # Codons to mutate\n",
    "        all_n_mutations = np.random.choice(allowed_n_mutations, size = n_pos_mutated) # Number of mutations at each codon\n",
    "        self.all_codon_mut_pos = [np.sort(np.random.choice(allowed_in_frame, size = n_mutations, replace = False))\n",
    "                                  for n_mutations in all_n_mutations]\n",
    "\n",
    "        # Create a list of allowed mutations at each position\n",
    "        allowed_mutations = [None] * n_pos_mutated\n",
    "        for i, mutation_pos in enumerate(self.codon_mutation_positions):\n",
    "            allowed_mutations[i] = [allowed_bases_set - set(self.all_codons[mutation_pos][mut_base_ind])\n",
    "                                   for mut_base_ind in self.all_codon_mut_pos[i]]\n",
    "\n",
    "        # Check to see if we want to mutate start positions\n",
    "        if self.start_len > 0:\n",
    "             self.start_mut_pos, allowed_start_muts = find_start_end_muts(self.start_seq, self.start_len)\n",
    "\n",
    "        # Check to see if we want to mutate end positions\n",
    "        if self.end_len > 0:\n",
    "            self.end_mut_pos, allowed_end_muts = find_start_end_muts(self.end_seq, self.end_len)\n",
    "\n",
    "        # Loop over the number of variants and generate new sequences\n",
    "        self.new_codons = [\"\"] * self.n_variants\n",
    "        self.new_starts = [\"\"] * self.n_variants\n",
    "        self.new_ends = [\"\"] * self.n_variants\n",
    "        for variant_ind in range(self.n_variants):\n",
    "\n",
    "            # Mutate all codons\n",
    "            new_codon_list = self.all_codons.copy()\n",
    "            for i, (mut_pos, codon_mut_pos, codon_allowed_mutations) in enumerate(zip(self.codon_mutation_positions,\n",
    "                                                                                      self.all_codon_mut_pos,\n",
    "                                                                                      allowed_mutations)):\n",
    "\n",
    "                # Mutate the codon\n",
    "                new_codon, new_allowed = mutate_codon(new_codon_list[mut_pos], codon_mut_pos, codon_allowed_mutations)\n",
    "\n",
    "                # Update the new sequence and new allowed\n",
    "                new_codon_list[mut_pos] = new_codon\n",
    "                allowed_mutations[i] = new_allowed\n",
    "\n",
    "                # Update the list of new sequences\n",
    "                self.new_codons[variant_ind] = new_codon_list\n",
    "\n",
    "            # Check to see if we want to mutate the starting sequence. We will only\n",
    "            # mutate if there is one\n",
    "            if self.start_len > 0:\n",
    "                self.new_starts[variant_ind], allowed_start_muts = mutate_codon(self.start_seq,\n",
    "                                                                                self.start_mut_pos,\n",
    "                                                                                allowed_start_muts)\n",
    "\n",
    "            # Check to see if we want to mutate the end sequence. We will only\n",
    "            # mutate if there is one\n",
    "            if self.end_len > 0:\n",
    "                self.new_ends[variant_ind], allowed_end_muts = mutate_codon(self.end_seq,\n",
    "                                                                            self.end_mut_pos,\n",
    "                                                                            allowed_end_muts)\n",
    "    \n",
    "    # Build sequences from the mutants\n",
    "    def build_mutant_seqs(self):\n",
    "        \n",
    "        # Define lists for holding the new sequences\n",
    "        self.mutant_aas = [None] * self.n_variants\n",
    "        self.mutant_seqs = [None] * self.n_variants\n",
    "        \n",
    "        # Loop over all mutants and append to new lists\n",
    "        for i, (start, mid, end) in enumerate(zip(self.new_starts, self.new_codons, self.new_ends)):\n",
    "\n",
    "            # Get the new translatable sequence\n",
    "            new_translatable = Seq(\"\".join(mid))\n",
    "            \n",
    "            # Complete the mutated sequence\n",
    "            self.mutant_seqs[i] = \"\".join([start, str(new_translatable), end])\n",
    "            \n",
    "            # Complete the translated sequence\n",
    "            self.mutant_aas[i] = str(new_translatable.translate())\n",
    "            \n",
    "    def get_readable_regions(self):\n",
    "        \n",
    "        # Get the read lengths of the forward and reverse reads\n",
    "        self.forward_readlength = self.read_length - ADAPTER_LENGTH_F - BARCODE_LENGTH\n",
    "        self.reverse_readlength = self.read_length - ADAPTER_LENGTH_R - BARCODE_LENGTH\n",
    "        \n",
    "        # Define a readable mask\n",
    "        self.readable_region = np.full(self.ref_length, False)\n",
    "        self.readable_region[:self.forward_readlength] = True\n",
    "        self.readable_region[(self.ref_length - self.reverse_readlength):] = True\n",
    "        \n",
    "        # Define the readable positions\n",
    "        self.readable_bp_positions = set(np.argwhere(self.readable_region).flatten())\n",
    "        \n",
    "    def get_perfect_count_array(self):\n",
    "        \n",
    "        # Get the regions where the reads overlap\n",
    "        self.perfect_counts = np.zeros(self.ref_length, dtype = int)\n",
    "        self.perfect_counts[:self.forward_readlength] += 1\n",
    "        self.perfect_counts[(self.ref_length - self.reverse_readlength):] += 1\n",
    "        \n",
    "    # Identify readable variable positions\n",
    "    def find_variable_positions(self):\n",
    "        \n",
    "        # Get the readable variable basepair positions\n",
    "        self.readable_variable_bp = np.array([[i for i, (char1, char2) in \n",
    "                                               enumerate(zip(self.ref_seq, mutant_seq))\n",
    "                                               if (char1 != char2 and i in self.readable_bp_positions)]\n",
    "                                              for mutant_seq in self.mutant_seqs])\n",
    "        \n",
    "        # Find readable codons\n",
    "        self.readable_codons = [codon for codon in self.codon_mutation_positions if\n",
    "                                all(base_ind in self.readable_bp_positions for \n",
    "                                    base_ind in self.codon_to_bp[codon])]"
   ]
  },
  {
   "cell_type": "code",
   "execution_count": null,
   "metadata": {},
   "outputs": [],
   "source": [
    "CHANGE SUCH THAT THE READABLE CODONS IS A MULTI DIMENSION LIST LIKE THE READABLE BP ONE"
   ]
  },
  {
   "cell_type": "code",
   "execution_count": 35,
   "metadata": {},
   "outputs": [],
   "source": [
    "test = WellContents()"
   ]
  },
  {
   "cell_type": "code",
   "execution_count": 36,
   "metadata": {},
   "outputs": [
    {
     "data": {
      "text/plain": [
       "[14, 143]"
      ]
     },
     "execution_count": 36,
     "metadata": {},
     "output_type": "execute_result"
    }
   ],
   "source": [
    "test.readable_codons"
   ]
  },
  {
   "cell_type": "code",
   "execution_count": 38,
   "metadata": {},
   "outputs": [
    {
     "data": {
      "text/plain": [
       "array([[  1,  45,  46, 432, 433, 464],\n",
       "       [  1,  45,  46, 432, 433, 464]])"
      ]
     },
     "execution_count": 38,
     "metadata": {},
     "output_type": "execute_result"
    }
   ],
   "source": [
    "test.readable_variable_bp"
   ]
  },
  {
   "cell_type": "code",
   "execution_count": 33,
   "metadata": {},
   "outputs": [
    {
     "data": {
      "text/plain": [
       "[14, 33, 34, 48, 49]"
      ]
     },
     "execution_count": 33,
     "metadata": {},
     "output_type": "execute_result"
    }
   ],
   "source": [
    "readable_codons"
   ]
  },
  {
   "cell_type": "code",
   "execution_count": 10,
   "metadata": {},
   "outputs": [
    {
     "data": {
      "text/plain": [
       "array([[  0,  25,  27, 139, 140],\n",
       "       [  0,  25,  27, 139, 140],\n",
       "       [  0,  25,  27, 139, 140]])"
      ]
     },
     "execution_count": 10,
     "metadata": {},
     "output_type": "execute_result"
    }
   ],
   "source": [
    "test.readable_variable_bp"
   ]
  },
  {
   "cell_type": "code",
   "execution_count": 18,
   "metadata": {},
   "outputs": [
    {
     "name": "stdout",
     "output_type": "stream",
     "text": [
      "1\n"
     ]
    }
   ],
   "source": [
    "print(test.in_frame)\n",
    "\n"
   ]
  },
  {
   "cell_type": "code",
   "execution_count": 19,
   "metadata": {},
   "outputs": [
    {
     "data": {
      "text/plain": [
       "{0: array([1, 2, 3]),\n",
       " 1: array([4, 5, 6]),\n",
       " 2: array([7, 8, 9]),\n",
       " 3: array([10, 11, 12]),\n",
       " 4: array([13, 14, 15]),\n",
       " 5: array([16, 17, 18]),\n",
       " 6: array([19, 20, 21]),\n",
       " 7: array([22, 23, 24]),\n",
       " 8: array([25, 26, 27]),\n",
       " 9: array([28, 29, 30]),\n",
       " 10: array([31, 32, 33]),\n",
       " 11: array([34, 35, 36]),\n",
       " 12: array([37, 38, 39]),\n",
       " 13: array([40, 41, 42]),\n",
       " 14: array([43, 44, 45]),\n",
       " 15: array([46, 47, 48]),\n",
       " 16: array([49, 50, 51]),\n",
       " 17: array([52, 53, 54]),\n",
       " 18: array([55, 56, 57]),\n",
       " 19: array([58, 59, 60]),\n",
       " 20: array([61, 62, 63]),\n",
       " 21: array([64, 65, 66]),\n",
       " 22: array([67, 68, 69]),\n",
       " 23: array([70, 71, 72]),\n",
       " 24: array([73, 74, 75]),\n",
       " 25: array([76, 77, 78]),\n",
       " 26: array([79, 80, 81]),\n",
       " 27: array([82, 83, 84]),\n",
       " 28: array([85, 86, 87]),\n",
       " 29: array([88, 89, 90]),\n",
       " 30: array([91, 92, 93]),\n",
       " 31: array([94, 95, 96]),\n",
       " 32: array([97, 98, 99]),\n",
       " 33: array([100, 101, 102]),\n",
       " 34: array([103, 104, 105]),\n",
       " 35: array([106, 107, 108]),\n",
       " 36: array([109, 110, 111]),\n",
       " 37: array([112, 113, 114]),\n",
       " 38: array([115, 116, 117]),\n",
       " 39: array([118, 119, 120]),\n",
       " 40: array([121, 122, 123]),\n",
       " 41: array([124, 125, 126]),\n",
       " 42: array([127, 128, 129]),\n",
       " 43: array([130, 131, 132]),\n",
       " 44: array([133, 134, 135]),\n",
       " 45: array([136, 137, 138])}"
      ]
     },
     "execution_count": 19,
     "metadata": {},
     "output_type": "execute_result"
    }
   ],
   "source": [
    "codon_to_bp"
   ]
  },
  {
   "cell_type": "code",
   "execution_count": 14,
   "metadata": {},
   "outputs": [
    {
     "data": {
      "text/plain": [
       "['ACG',\n",
       " 'GTA',\n",
       " 'CTG',\n",
       " 'TTA',\n",
       " 'CGT',\n",
       " 'CCC',\n",
       " 'TAA',\n",
       " 'AGC',\n",
       " 'TCA',\n",
       " 'GGT',\n",
       " 'GCA',\n",
       " 'CTG',\n",
       " 'TTG',\n",
       " 'CGC',\n",
       " 'GAG',\n",
       " 'CAA',\n",
       " 'GGC',\n",
       " 'CGG',\n",
       " 'AAC',\n",
       " 'ACG',\n",
       " 'TTT',\n",
       " 'AGT',\n",
       " 'CTA',\n",
       " 'TTA',\n",
       " 'AGC',\n",
       " 'CCC',\n",
       " 'GTA',\n",
       " 'CTA',\n",
       " 'CCA',\n",
       " 'TTC',\n",
       " 'TCC',\n",
       " 'ATG',\n",
       " 'ACA',\n",
       " 'GAG',\n",
       " 'CTG',\n",
       " 'GGC',\n",
       " 'TCG',\n",
       " 'ACG',\n",
       " 'TTT',\n",
       " 'TAA',\n",
       " 'TGA',\n",
       " 'TCA',\n",
       " 'CCG',\n",
       " 'GAG',\n",
       " 'CCT',\n",
       " 'CAA']"
      ]
     },
     "execution_count": 14,
     "metadata": {},
     "output_type": "execute_result"
    }
   ],
   "source": [
    "test.all_codons"
   ]
  },
  {
   "cell_type": "code",
   "execution_count": 8,
   "metadata": {},
   "outputs": [
    {
     "ename": "SyntaxError",
     "evalue": "invalid syntax (<ipython-input-8-252a5361c704>, line 2)",
     "output_type": "error",
     "traceback": [
      "\u001b[0;36m  File \u001b[0;32m\"<ipython-input-8-252a5361c704>\"\u001b[0;36m, line \u001b[0;32m2\u001b[0m\n\u001b[0;31m    bp_variable_positions =\u001b[0m\n\u001b[0m                            ^\u001b[0m\n\u001b[0;31mSyntaxError\u001b[0m\u001b[0;31m:\u001b[0m invalid syntax\n"
     ]
    }
   ],
   "source": [
    "# Compare the mutant seqs to the reference\n",
    "bp_variable_positions = \n",
    "# bp_variable_positions = np.array([[i for i, (char1, char2) in \n",
    "#                                    enumerate(zip(test.ref_seq, mutant_seq))\n",
    "#                                    if char1 != char2]\n",
    "#                                   for mutant_seq in test.mutant_seqs])\n",
    "\n",
    "# # Get the positions that are readable\n",
    "# readable_variable_positions = "
   ]
  },
  {
   "cell_type": "code",
   "execution_count": null,
   "metadata": {},
   "outputs": [],
   "source": [
    "bp_variable_positions"
   ]
  },
  {
   "cell_type": "code",
   "execution_count": null,
   "metadata": {},
   "outputs": [],
   "source": [
    "bp_variable_positions"
   ]
  },
  {
   "cell_type": "code",
   "execution_count": null,
   "metadata": {},
   "outputs": [],
   "source": [
    "default_readable"
   ]
  },
  {
   "cell_type": "markdown",
   "metadata": {},
   "source": [
    "# Start by calculating and testing outputs if no noise is added. Add noise later. Then you just adjust the ideal output based on the noise."
   ]
  },
  {
   "cell_type": "code",
   "execution_count": null,
   "metadata": {},
   "outputs": [],
   "source": [
    "def build_output_records(average_q_cutoff = 25, bp_q_cutoff = 30,\n",
    "                         variable_count = 10, read_length = 150,\n",
    "                        ref_length = None):\n",
    "    pass\n",
    "\n",
    "average_q_cutoff = 25\n",
    "bp_q_cutoff = 30\n",
    "variable_count = 10\n",
    "read_length = 150\n",
    "ref_length = None\n",
    "\n",
    "np.random.seed(2)\n",
    "\n",
    "# Create a counter to index the input sequences. Create lists to\n",
    "# store all outputs\n",
    "output_counter = 0\n",
    "all_out_f = []\n",
    "all_out_r = []\n",
    "\n",
    "# Build a list for storing the reference sequences\n",
    "output_cols = [\"PlateName\", \"IndexPlate\", \"Well\", \"ReferenceSequence\",\n",
    "              \"InFrameBase\", \"BpIndStart\", \"AaIndStart\"]\n",
    "ref_seq_file_array = [None] * len(barcode_df)\n",
    "wells = ref_seq_file_array.copy()\n",
    "\n",
    "# Loop over the barcode plate\n",
    "for barcode_ind, row in enumerate(barcode_df.itertuples(index = False)):\n",
    "        \n",
    "    # Create a well with specific content\n",
    "    well = WellContents(ref_length = ref_length, read_length = read_length)   \n",
    "    wells[barcode_ind] = well\n",
    "    \n",
    "    # Populate the reference sequence row\n",
    "    ref_seq_file_array[barcode_ind] = [row.IndexPlate + \"_TEST\", row.IndexPlate, row.Well,\n",
    "                                      well.ref_seq, well.in_frame + 1, 1232, 23]\n",
    "    \n",
    "    # Define the allowed range of quality scores\n",
    "    high_q_range = np.arange(bp_q_cutoff, 40)\n",
    "\n",
    "    # Decide on the number of sequences in the well\n",
    "    n_seqs_in_well = np.random.randint(*allowed_n_reads)\n",
    "\n",
    "    # Get the number of times each sequence will be represented\n",
    "    n_reps = n_seqs_in_well // well.n_variants\n",
    "    remainder = n_seqs_in_well % well.n_variants\n",
    "    total_counts_by_seq = np.full(well.n_variants, n_reps)\n",
    "    total_counts_by_seq[0] += remainder\n",
    "\n",
    "    # Loop over the sequences and build both the expected output\n",
    "    # and the desired input\n",
    "    output_records_f = [None] * n_seqs_in_well\n",
    "    output_records_r = output_records_f.copy()\n",
    "    temp_counter = 0\n",
    "    for total_counts, mutant_seq, mutant_aa_seq in zip(total_counts_by_seq, well.mutant_seqs, well.mutant_aas):\n",
    "        \n",
    "        # Build outputs\n",
    "        for _ in range(total_counts):\n",
    "\n",
    "            # Pull the forward sequence\n",
    "            forward_seq_unfinished = mutant_seq[:well.forward_readlength]\n",
    "            rev_seq_unfinished = Seq(mutant_seq[(well.ref_length - well.reverse_readlength):])\n",
    "            rev_seq_unfinished = str(rev_seq_unfinished.reverse_complement())\n",
    "\n",
    "            # Finish the sequences\n",
    "            finished_f = Seq(\"\".join((row.FBC, F_ADAPTER, forward_seq_unfinished)))\n",
    "            finished_r = Seq(\"\".join((row.RBC, R_ADAPTER, rev_seq_unfinished)))\n",
    "\n",
    "            # Create sequence records\n",
    "            output_records_f[temp_counter] = SeqRecord(finished_f,\n",
    "                                                       id = id_template.substitute(num = output_counter),\n",
    "                                                       letter_annotations = {\"phred_quality\": np.random.choice(high_q_range, len(finished_f))})\n",
    "            output_records_r[temp_counter] = SeqRecord(finished_r,\n",
    "                                                       id = id_template.substitute(num = output_counter),\n",
    "                                                       letter_annotations = {\"phred_quality\": np.random.choice(high_q_range, len(finished_r))})\n",
    "\n",
    "            # Update counters\n",
    "            output_counter += 1 \n",
    "            temp_counter += 1\n",
    "            \n",
    "    # Extend the overall records\n",
    "    all_out_f.extend(output_records_f)\n",
    "    all_out_r.extend(output_records_r)            \n",
    "    \n",
    "# Save results after shuffling order of output records\n",
    "shuffle(all_out_f)\n",
    "shuffle(all_out_r)\n",
    "with open(\"deSeqValidation/Test_R1_001.fastq\", \"w\") as f:\n",
    "    SeqIO.write(all_out_f, f, \"fastq\")\n",
    "with open(\"deSeqValidation/Test_R2_001.fastq\", \"w\") as f:\n",
    "    SeqIO.write(all_out_r, f, \"fastq\")\n",
    "output_df = pd.DataFrame(ref_seq_file_array, columns = output_cols)\n",
    "output_df.to_csv(\"./deSeqValidation/TestRefSeq.csv\", index = False)"
   ]
  },
  {
   "cell_type": "code",
   "execution_count": null,
   "metadata": {},
   "outputs": [],
   "source": [
    "len(wells[6].codon_mutation_positions)"
   ]
  },
  {
   "cell_type": "code",
   "execution_count": null,
   "metadata": {},
   "outputs": [],
   "source": [
    "w"
   ]
  },
  {
   "cell_type": "code",
   "execution_count": null,
   "metadata": {},
   "outputs": [],
   "source": [
    "f_bc, r_bc = barcode_df.loc[(barcode_df.IndexPlate == \"DI01\")&(barcode_df.Well == \"A01\"), [\"FBC\", \"RBC\"]].values.flatten()\n",
    "id_counter = 0\n",
    "\n",
    "\n",
    "    \n",
    "#     # Grab the mutated bases\n",
    "#     mutant_bases = [[base_ind, orig_base, new_base] for \n",
    "#                     base_ind, (orig_base, new_base) in\n",
    "#                     enumerate(zip(test.ref_seq, mutant_seq))\n",
    "#                    if orig_base != new_base]\n",
    "    \n",
    "#     # Grab the mutated amino acids\n",
    "#     mutant_aas = [[aa_ind, orig_aa, new_aa] for \n",
    "#                  aa_ind, (orig_aa, new_aa) in\n",
    "#                  enumerate(zip(test.aa_ref_seq, mutant_aa_seq))\n",
    "#                  if orig_aa != new_aa]\n",
    "    \n",
    "#     # Grab the expected counts for the bases\n",
    "#     expected_base_counts = [test.perfect_counts[mutant_ind] for mutant_ind, _, _ in mutant_bases]\n",
    "    \n",
    "#     Get the expected counts\n"
   ]
  },
  {
   "cell_type": "code",
   "execution_count": null,
   "metadata": {},
   "outputs": [],
   "source": [
    "len(output_records_f[0].letter_annotations[\"phred_quality\"])"
   ]
  },
  {
   "cell_type": "code",
   "execution_count": null,
   "metadata": {},
   "outputs": [],
   "source": [
    "output_records_f"
   ]
  },
  {
   "cell_type": "code",
   "execution_count": null,
   "metadata": {},
   "outputs": [],
   "source": [
    "\n",
    "# Loop over each variable sequence\n",
    "\n",
    "\n",
    "# Create a counter for the number of sequences in a well\n",
    "\n",
    "\n",
    "\n",
    "# Determine codons with poor quality bases that we mutated.\n",
    "# bad_base_test = np.random.rand(len(test.codon_mutation_positions)) < bad_base_freq\n",
    "# codons_with_bad_base = test.codon_mutation_positions[bad_base_test]\n",
    "\n",
    "\n",
    "# Determine the bad bases for the variable each sequence.\n",
    "# bad_base_checks = np.random.rand(n_seqs_in_well, test.ref_length) < bad_base_freq\n",
    "\n",
    "# Decide if there are any bad bases in the sequences\n",
    "# bad_base_checker = np.random.rand(n_seqs_in_well) < bad_base_in_seq_freq\n",
    "\n",
    "# Loop over the bad base checker and decide (a) the number of bad\n",
    "# positions and (b) where those positions are. \n",
    "\n",
    "# After sequences are split, decide if we want to tank just one of them (e.g.\n",
    "# by adding insertions or deletions or dropping the q-score very low)\n"
   ]
  },
  {
   "cell_type": "code",
   "execution_count": null,
   "metadata": {},
   "outputs": [],
   "source": [
    "n_seqs_in_well"
   ]
  },
  {
   "cell_type": "code",
   "execution_count": null,
   "metadata": {},
   "outputs": [],
   "source": [
    "n_reps"
   ]
  },
  {
   "cell_type": "code",
   "execution_count": null,
   "metadata": {},
   "outputs": [],
   "source": [
    "total_counts_by_seq"
   ]
  },
  {
   "cell_type": "code",
   "execution_count": null,
   "metadata": {},
   "outputs": [],
   "source": [
    "codons_with_bad_base"
   ]
  },
  {
   "cell_type": "code",
   "execution_count": null,
   "metadata": {},
   "outputs": [],
   "source": [
    "# Get the overall number of reads that we want for the well\n",
    "total_possible_reads = np.random.randint(*allowed_n_reads)\n",
    "\n",
    "# Decide if the well is dead. Evaluate possible conditions to make it dead.\n",
    "if random.rand() < dead_well_freq:\n",
    "    \n",
    "    # Choose \"1\", \"2\", or \"3\". \"1\" means make no usable reads (either by insertion, deletion\n",
    "    # or low average read quality)\n",
    "\n",
    "# Decide if we want this to be wild type \n",
    "\n"
   ]
  },
  {
   "cell_type": "code",
   "execution_count": null,
   "metadata": {},
   "outputs": [],
   "source": [
    "# Make a kill reads function that either makes an insertion/deletion\n",
    "# or else just wipes out functionality"
   ]
  },
  {
   "cell_type": "code",
   "execution_count": null,
   "metadata": {},
   "outputs": [],
   "source": [
    "# Now we need a function that...\n",
    "# 1. Determines the overall count of each read\n",
    "# 2. Assigns a target frequency for each position\n",
    "# 3. Assigns a target count for each position\n",
    "# 4. Breaks into forward and reverse reads\n",
    "# 5. Loops over reads and assigns quality scores to the different bases\n",
    "#"
   ]
  },
  {
   "cell_type": "code",
   "execution_count": null,
   "metadata": {},
   "outputs": [],
   "source": [
    "build_reference_and_variants()"
   ]
  },
  {
   "cell_type": "code",
   "execution_count": null,
   "metadata": {},
   "outputs": [],
   "source": []
  }
 ],
 "metadata": {
  "kernelspec": {
   "display_name": "Python 3",
   "language": "python",
   "name": "python3"
  },
  "language_info": {
   "codemirror_mode": {
    "name": "ipython",
    "version": 3
   },
   "file_extension": ".py",
   "mimetype": "text/x-python",
   "name": "python",
   "nbconvert_exporter": "python",
   "pygments_lexer": "ipython3",
   "version": "3.7.6"
  }
 },
 "nbformat": 4,
 "nbformat_minor": 4
}
