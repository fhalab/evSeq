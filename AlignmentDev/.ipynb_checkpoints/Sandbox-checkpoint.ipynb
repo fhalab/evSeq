{
 "cells": [
  {
   "cell_type": "code",
   "execution_count": 1,
   "metadata": {},
   "outputs": [],
   "source": [
    "import pandas as pd\n",
    "import numpy as np"
   ]
  },
  {
   "cell_type": "code",
   "execution_count": 2,
   "metadata": {},
   "outputs": [],
   "source": [
    "# Load reference sequence\n",
    "refseq_df = pd.read_csv(\"./TestData/20200205_ssSeq/RefSeqs.csv\")\n",
    "\n",
    "# Convert all sequences to uppercase\n",
    "anycase_refseqs = refseq_df.ReferenceSequence.values.tolist()\n",
    "uppercase_refseqs = [refseq.upper() for refseq in anycase_refseqs]\n",
    "refseq_df[\"ReferenceSequence\"] = uppercase_refseqs"
   ]
  },
  {
   "cell_type": "code",
   "execution_count": 19,
   "metadata": {},
   "outputs": [],
   "source": [
    "def log_error(e):\n",
    "    print(e)\n",
    "\n",
    "def find_codons_variable_positions(refseq, inframe_bp):\n",
    "    \n",
    "    # Get the number of codons and number of variable positions\n",
    "    n_codons = refseq.count(\"NNN\")\n",
    "    n_positions = refseq.count(\"N\")\n",
    "    \n",
    "    # Check to be sure the number of positions is divisible by 3 and divides\n",
    "    # to the number of codons\n",
    "    if (n_positions % 3) != 0:\n",
    "        log_error(\"Must enter `N` in groups of 3 to signify codon.\")\n",
    "    assert (n_positions / 3) == n_codons, \"Mismatch in number of codons and number of variable positions.\"\n",
    "\n",
    "    # If no codons are found, return an empty array\n",
    "#     if n_codons\n",
    "    \n",
    "    # Split the reference sequence\n",
    "    split_seqs = refseq.split(\"NNN\")\n",
    "\n",
    "    # Loop over the splits and make checks\n",
    "    variable_positions = []\n",
    "    variable_counter = 0\n",
    "    for frag_ind, fragment in enumerate(split_seqs[:-1]):\n",
    "\n",
    "        # Make sure fragments other than the first are divisible by 3, if not, then\n",
    "        # the sections are not in frame\n",
    "        frag_len = len(fragment)\n",
    "        if (frag_ind > 0) and (not (frag_len % 3 == 0)):\n",
    "            log_error(\"Specified variable positions are not in the same reading frame.\")\n",
    "\n",
    "        # Extend the variable positions. It will be extended by \n",
    "        # the fragment length\n",
    "        variable_counter += frag_len\n",
    "        for _ in range(3):\n",
    "            variable_positions.append(variable_counter)\n",
    "            variable_counter += 1\n",
    "\n",
    "    # Convert to an array. Make sure everything is sorted.\n",
    "    variable_positions = np.array(variable_positions)\n",
    "    variable_positions.sort()\n",
    "\n",
    "    # Make sure that all variable positions are \"N\" and that we found the appropriate\n",
    "    # number of codons\n",
    "    assert len(variable_positions) == n_positions, \"Missing variable positions\"\n",
    "    assert all(refseq[pos] == \"N\" for pos in variable_positions), \"Error in variable position calculation\"\n",
    "        \n",
    "    # Validate that the provided in frame bp is correct\n",
    "    if (test[0] % 3) != (inframe_bp - 1):\n",
    "        log_error(\"The provided in frame base does not match the frame of the provided variable codons.\")\n",
    "    \n",
    "    return variable_positions"
   ]
  },
  {
   "cell_type": "code",
   "execution_count": 21,
   "metadata": {},
   "outputs": [
    {
     "name": "stdout",
     "output_type": "stream",
     "text": [
      "Specified variable positions are not in the same reading frame.\n"
     ]
    },
    {
     "ename": "IndexError",
     "evalue": "index 0 is out of bounds for axis 0 with size 0",
     "output_type": "error",
     "traceback": [
      "\u001b[0;31m---------------------------------------------------------------------------\u001b[0m",
      "\u001b[0;31mIndexError\u001b[0m                                Traceback (most recent call last)",
      "\u001b[0;32m<ipython-input-21-1eddcb43c131>\u001b[0m in \u001b[0;36m<module>\u001b[0;34m\u001b[0m\n\u001b[0;32m----> 1\u001b[0;31m \u001b[0mtest\u001b[0m \u001b[0;34m=\u001b[0m \u001b[0mfind_codons_variable_positions\u001b[0m\u001b[0;34m(\u001b[0m\u001b[0;34m\"ACADFNNNENNNCADF\"\u001b[0m\u001b[0;34m,\u001b[0m \u001b[0;36m1\u001b[0m\u001b[0;34m)\u001b[0m\u001b[0;34m\u001b[0m\u001b[0;34m\u001b[0m\u001b[0m\n\u001b[0m",
      "\u001b[0;32m<ipython-input-19-1841a8ad3666>\u001b[0m in \u001b[0;36mfind_codons_variable_positions\u001b[0;34m(refseq, inframe_bp)\u001b[0m\n\u001b[1;32m     53\u001b[0m \u001b[0;34m\u001b[0m\u001b[0m\n\u001b[1;32m     54\u001b[0m     \u001b[0;31m# Validate that the provided in frame bp is correct\u001b[0m\u001b[0;34m\u001b[0m\u001b[0;34m\u001b[0m\u001b[0;34m\u001b[0m\u001b[0m\n\u001b[0;32m---> 55\u001b[0;31m     \u001b[0;32mif\u001b[0m \u001b[0;34m(\u001b[0m\u001b[0mtest\u001b[0m\u001b[0;34m[\u001b[0m\u001b[0;36m0\u001b[0m\u001b[0;34m]\u001b[0m \u001b[0;34m%\u001b[0m \u001b[0;36m3\u001b[0m\u001b[0;34m)\u001b[0m \u001b[0;34m!=\u001b[0m \u001b[0;34m(\u001b[0m\u001b[0minframe_bp\u001b[0m \u001b[0;34m-\u001b[0m \u001b[0;36m1\u001b[0m\u001b[0;34m)\u001b[0m\u001b[0;34m:\u001b[0m\u001b[0;34m\u001b[0m\u001b[0;34m\u001b[0m\u001b[0m\n\u001b[0m\u001b[1;32m     56\u001b[0m         \u001b[0mlog_error\u001b[0m\u001b[0;34m(\u001b[0m\u001b[0;34m\"The provided in frame base does not match the frame of the provided variable codons.\"\u001b[0m\u001b[0;34m)\u001b[0m\u001b[0;34m\u001b[0m\u001b[0;34m\u001b[0m\u001b[0m\n\u001b[1;32m     57\u001b[0m \u001b[0;34m\u001b[0m\u001b[0m\n",
      "\u001b[0;31mIndexError\u001b[0m: index 0 is out of bounds for axis 0 with size 0"
     ]
    }
   ],
   "source": [
    "test = find_codons_variable_positions(\"ACADFNNNENNNCADF\", 1)"
   ]
  },
  {
   "cell_type": "code",
   "execution_count": 11,
   "metadata": {},
   "outputs": [
    {
     "data": {
      "text/plain": [
       "0"
      ]
     },
     "execution_count": 11,
     "metadata": {},
     "output_type": "execute_result"
    }
   ],
   "source": [
    "test[0] % 3"
   ]
  },
  {
   "cell_type": "code",
   "execution_count": null,
   "metadata": {},
   "outputs": [],
   "source": []
  }
 ],
 "metadata": {
  "kernelspec": {
   "display_name": "Python 3",
   "language": "python",
   "name": "python3"
  },
  "language_info": {
   "codemirror_mode": {
    "name": "ipython",
    "version": 3
   },
   "file_extension": ".py",
   "mimetype": "text/x-python",
   "name": "python",
   "nbconvert_exporter": "python",
   "pygments_lexer": "ipython3",
   "version": "3.7.6"
  }
 },
 "nbformat": 4,
 "nbformat_minor": 4
}
