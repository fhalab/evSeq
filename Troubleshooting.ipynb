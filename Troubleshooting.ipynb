{
 "cells": [
  {
   "cell_type": "code",
   "execution_count": 45,
   "metadata": {},
   "outputs": [],
   "source": [
    "# Import relevant modules from ssSeqSupport.\n",
    "from Code.Globals import N_CPUS, AA_ARRAY\n",
    "from Code.Logging import log_init, log_info, log_error\n",
    "from Code.InputProcessing import build_output_dirs\n",
    "from Code.RunDeSeq import run_deseq\n",
    "from Code.RunDeSeq import load_all, build_seqpairs, qc_seqpairs, assign_seqpairs_to_well, check_args\n",
    "\n",
    "import numpy as np"
   ]
  },
  {
   "cell_type": "code",
   "execution_count": 2,
   "metadata": {},
   "outputs": [
    {
     "name": "stdout",
     "output_type": "stream",
     "text": [
      "Loading forward reads...\n"
     ]
    },
    {
     "name": "stderr",
     "output_type": "stream",
     "text": [
      "Parsing forward reads...: 100%|██████████| 38396/38396 [00:01<00:00, 26728.43it/s]\n"
     ]
    },
    {
     "name": "stdout",
     "output_type": "stream",
     "text": [
      "Loading reverse reads...\n"
     ]
    },
    {
     "name": "stderr",
     "output_type": "stream",
     "text": [
      "Pairing reverse reads...: 100%|██████████| 38396/38396 [00:02<00:00, 17646.66it/s]\n"
     ]
    },
    {
     "name": "stdout",
     "output_type": "stream",
     "text": [
      "Running read qc...\n",
      "Assigning sequences to wells...\n"
     ]
    }
   ],
   "source": [
    "# Define command line args\n",
    "cl_args = {\"refseq\": \"./deSeqValidation/TestRefSeq.csv\",\n",
    "          \"folder\": \"./deSeqValidation/\",\n",
    "           \"fastq_r\": \"\",\n",
    "          \"output\": \"./TEMP/\",\n",
    "          \"read_length\": None,\n",
    "          \"length_cutoff\": 0.9,\n",
    "          \"average_q_cutoff\": 25,\n",
    "          \"bp_q_cutoff\": 30,\n",
    "          \"variable_thresh\": 0.1,\n",
    "          \"variable_count\": 1,\n",
    "          \"jobs\": 23,\n",
    "          \"analysis_only\": False,\n",
    "          \"stop_after_fastq\": False,\n",
    "           \"return_alignments\": False,\n",
    "           \"datetime\": \"ADFADF\",\n",
    "           \"detailed_refseq\": True\n",
    "          }\n",
    "\n",
    "# Build all output directories\n",
    "build_output_dirs(cl_args)\n",
    "\n",
    "# Log CLArgs\n",
    "log_init(cl_args)  \n",
    "\n",
    "# Check the input arguments\n",
    "check_args(cl_args)\n",
    "\n",
    "# Identify sequencing files and load reference sequence information\n",
    "forward_file, reverse_file, bc_to_ref_plate_well = load_all(cl_args)\n",
    "\n",
    "# Pair all sequences\n",
    "all_seqpairs = build_seqpairs(forward_file, reverse_file)\n",
    "\n",
    "# Run QC on the seqpairs\n",
    "filtered_seqpairs = qc_seqpairs(all_seqpairs, cl_args[\"read_length\"],\n",
    "                                cl_args[\"length_cutoff\"], \n",
    "                                cl_args[\"average_q_cutoff\"])\n",
    "\n",
    "# Assign seqpairs to a well\n",
    "all_wells = assign_seqpairs_to_well(filtered_seqpairs, \n",
    "                                    bc_to_ref_plate_well,\n",
    "                                    cl_args[\"output\"])"
   ]
  },
  {
   "cell_type": "code",
   "execution_count": 23,
   "metadata": {},
   "outputs": [],
   "source": [
    "problem_well = [well for well in all_wells if well.index_plate == \"DI05\" and well.well == \"G06\"][0]"
   ]
  },
  {
   "cell_type": "code",
   "execution_count": 24,
   "metadata": {},
   "outputs": [],
   "source": [
    "problem_well.align()"
   ]
  },
  {
   "cell_type": "code",
   "execution_count": 25,
   "metadata": {},
   "outputs": [
    {
     "data": {
      "text/plain": [
       "True"
      ]
     },
     "execution_count": 25,
     "metadata": {},
     "output_type": "execute_result"
    }
   ],
   "source": [
    "problem_well.analyze_alignments(30, 1)"
   ]
  },
  {
   "cell_type": "code",
   "execution_count": 26,
   "metadata": {},
   "outputs": [],
   "source": [
    "problem_well.build_unit_count_matrices()"
   ]
  },
  {
   "cell_type": "code",
   "execution_count": 27,
   "metadata": {},
   "outputs": [
    {
     "ename": "AssertionError",
     "evalue": "",
     "output_type": "error",
     "traceback": [
      "\u001b[0;31m---------------------------------------------------------------------------\u001b[0m",
      "\u001b[0;31mAssertionError\u001b[0m                            Traceback (most recent call last)",
      "\u001b[0;32m<ipython-input-27-aa070beac6b5>\u001b[0m in \u001b[0;36m<module>\u001b[0;34m\u001b[0m\n\u001b[0;32m----> 1\u001b[0;31m \u001b[0mproblem_well\u001b[0m\u001b[0;34m.\u001b[0m\u001b[0midentify_variable_positions\u001b[0m\u001b[0;34m(\u001b[0m\u001b[0;36m0.1\u001b[0m\u001b[0;34m)\u001b[0m\u001b[0;34m\u001b[0m\u001b[0;34m\u001b[0m\u001b[0m\n\u001b[0m",
      "\u001b[0;32m~/GitRepos/ssSeq/Code/Well.py\u001b[0m in \u001b[0;36midentify_variable_positions\u001b[0;34m(self, variable_thresh)\u001b[0m\n\u001b[1;32m    257\u001b[0m                                                                             \u001b[0mself\u001b[0m\u001b[0;34m.\u001b[0m\u001b[0mexpected_bps\u001b[0m\u001b[0;34m[\u001b[0m\u001b[0;34m:\u001b[0m\u001b[0;34m-\u001b[0m\u001b[0;36m1\u001b[0m\u001b[0;34m]\u001b[0m\u001b[0;34m,\u001b[0m\u001b[0;34m\u001b[0m\u001b[0;34m\u001b[0m\u001b[0m\n\u001b[1;32m    258\u001b[0m                                                                             \u001b[0mvariable_thresh\u001b[0m\u001b[0;34m,\u001b[0m\u001b[0;34m\u001b[0m\u001b[0;34m\u001b[0m\u001b[0m\n\u001b[0;32m--> 259\u001b[0;31m                                                                            self.expected_variable_bp_positions)\n\u001b[0m\u001b[1;32m    260\u001b[0m         (self._all_variable_aa_positions,\n\u001b[1;32m    261\u001b[0m          \u001b[0mself\u001b[0m\u001b[0;34m.\u001b[0m\u001b[0m_variable_aa_type\u001b[0m\u001b[0;34m)\u001b[0m \u001b[0;34m=\u001b[0m \u001b[0mWell\u001b[0m\u001b[0;34m.\u001b[0m\u001b[0midentify_variable_positions_generic\u001b[0m\u001b[0;34m(\u001b[0m\u001b[0mself\u001b[0m\u001b[0;34m.\u001b[0m\u001b[0munit_aa_freqs_no_gaps\u001b[0m\u001b[0;34m,\u001b[0m\u001b[0;34m\u001b[0m\u001b[0;34m\u001b[0m\u001b[0m\n",
      "\u001b[0;32m~/GitRepos/ssSeq/Code/Well.py\u001b[0m in \u001b[0;36midentify_variable_positions_generic\u001b[0;34m(by_unit_frequency, expected_array, variable_thresh, expected_variable_positions)\u001b[0m\n\u001b[1;32m    210\u001b[0m \u001b[0;34m\u001b[0m\u001b[0m\n\u001b[1;32m    211\u001b[0m         \u001b[0;31m# Assert that it is all 1 or 0\u001b[0m\u001b[0;34m\u001b[0m\u001b[0;34m\u001b[0m\u001b[0;34m\u001b[0m\u001b[0m\n\u001b[0;32m--> 212\u001b[0;31m         \u001b[0;32massert\u001b[0m \u001b[0mnp\u001b[0m\u001b[0;34m.\u001b[0m\u001b[0mall\u001b[0m\u001b[0;34m(\u001b[0m\u001b[0mnp\u001b[0m\u001b[0;34m.\u001b[0m\u001b[0mlogical_or\u001b[0m\u001b[0;34m(\u001b[0m\u001b[0mtotal_frequencies\u001b[0m \u001b[0;34m==\u001b[0m \u001b[0;36m1\u001b[0m\u001b[0;34m,\u001b[0m \u001b[0mtotal_frequencies\u001b[0m \u001b[0;34m==\u001b[0m \u001b[0;36m0\u001b[0m\u001b[0;34m)\u001b[0m\u001b[0;34m)\u001b[0m\u001b[0;34m\u001b[0m\u001b[0;34m\u001b[0m\u001b[0m\n\u001b[0m\u001b[1;32m    213\u001b[0m \u001b[0;34m\u001b[0m\u001b[0m\n\u001b[1;32m    214\u001b[0m         \u001b[0;31m# The only way we can have a total frequency of 0 is if we are in a gap region.\u001b[0m\u001b[0;34m\u001b[0m\u001b[0;34m\u001b[0m\u001b[0;34m\u001b[0m\u001b[0m\n",
      "\u001b[0;31mAssertionError\u001b[0m: "
     ]
    }
   ],
   "source": [
    "problem_well.identify_variable_positions(0.1)"
   ]
  },
  {
   "cell_type": "code",
   "execution_count": 8,
   "metadata": {},
   "outputs": [
    {
     "data": {
      "text/plain": [
       "array([  0,   9,  17,  32,  35,  74,  75,  76,  79,  82,  91,  94,  97,\n",
       "       105, 106, 107, 112])"
      ]
     },
     "execution_count": 8,
     "metadata": {},
     "output_type": "execute_result"
    }
   ],
   "source": [
    "problem_well.all_variable_aa_positions"
   ]
  },
  {
   "cell_type": "code",
   "execution_count": 9,
   "metadata": {},
   "outputs": [
    {
     "data": {
      "text/plain": [
       "array([  0,   1,  28,  51,  53,  96,  98, 107, 222, 224, 225, 226, 227,\n",
       "       229, 237, 239, 246, 247, 248, 254, 273, 274, 275, 282, 292, 315,\n",
       "       316, 318, 319, 320, 321, 322, 336, 337, 338, 342])"
      ]
     },
     "execution_count": 9,
     "metadata": {},
     "output_type": "execute_result"
    }
   ],
   "source": [
    "problem_well.all_variable_bp_positions"
   ]
  },
  {
   "cell_type": "code",
   "execution_count": 28,
   "metadata": {},
   "outputs": [],
   "source": [
    "by_unit_frequency = problem_well.unit_bp_freqs_no_gaps\n",
    "expected_array = problem_well.expected_bps[:-1]\n",
    "variable_thresh = cl_args[\"variable_thresh\"]\n",
    "expected_variable_positions = np.array([])"
   ]
  },
  {
   "cell_type": "code",
   "execution_count": 29,
   "metadata": {},
   "outputs": [],
   "source": [
    "difference_from_expectation_absolute = np.abs(by_unit_frequency - expected_array)\n",
    "average_difference_from_expectation = np.sum(difference_from_expectation_absolute, axis = 0)/2"
   ]
  },
  {
   "cell_type": "code",
   "execution_count": 30,
   "metadata": {},
   "outputs": [],
   "source": [
    "# Get the total frequencies of each well\n",
    "total_frequencies = by_unit_frequency.sum(axis=0)"
   ]
  },
  {
   "cell_type": "code",
   "execution_count": 38,
   "metadata": {},
   "outputs": [
    {
     "data": {
      "text/plain": [
       "array([ True,  True,  True,  True,  True,  True,  True,  True,  True,\n",
       "        True,  True,  True,  True,  True,  True,  True,  True,  True,\n",
       "        True,  True,  True,  True,  True,  True,  True,  True,  True,\n",
       "        True,  True,  True,  True,  True,  True,  True,  True,  True,\n",
       "        True,  True,  True,  True,  True,  True,  True,  True,  True,\n",
       "        True,  True,  True,  True,  True,  True,  True,  True,  True,\n",
       "        True,  True,  True,  True,  True,  True,  True,  True,  True,\n",
       "        True,  True,  True,  True,  True,  True,  True,  True,  True,\n",
       "        True,  True,  True,  True,  True,  True,  True,  True,  True,\n",
       "        True,  True,  True,  True,  True,  True,  True,  True,  True,\n",
       "        True,  True,  True,  True,  True,  True,  True,  True,  True,\n",
       "        True,  True,  True,  True,  True,  True,  True,  True,  True,\n",
       "        True,  True,  True,  True,  True,  True,  True,  True,  True,\n",
       "        True,  True,  True,  True,  True,  True,  True,  True,  True,\n",
       "        True,  True,  True,  True,  True,  True,  True,  True,  True,\n",
       "        True,  True,  True,  True,  True,  True,  True,  True,  True,\n",
       "        True,  True,  True,  True,  True,  True,  True,  True,  True,\n",
       "        True,  True,  True,  True,  True,  True,  True,  True,  True,\n",
       "        True,  True,  True,  True,  True,  True,  True,  True,  True,\n",
       "        True,  True,  True,  True,  True,  True,  True,  True,  True,\n",
       "        True,  True,  True,  True,  True,  True,  True,  True,  True,\n",
       "        True,  True,  True,  True,  True,  True,  True,  True,  True,\n",
       "        True,  True,  True,  True,  True,  True,  True,  True,  True,\n",
       "        True,  True,  True,  True,  True,  True,  True,  True,  True,\n",
       "        True,  True,  True,  True,  True,  True,  True,  True,  True,\n",
       "        True,  True,  True,  True,  True,  True,  True,  True,  True,\n",
       "        True,  True,  True,  True,  True,  True,  True,  True,  True,\n",
       "        True,  True,  True,  True,  True,  True,  True,  True,  True,\n",
       "        True,  True,  True,  True,  True,  True,  True,  True,  True,\n",
       "        True,  True,  True,  True,  True,  True,  True,  True,  True,\n",
       "        True,  True,  True,  True,  True,  True,  True,  True,  True,\n",
       "        True,  True,  True,  True,  True,  True,  True,  True,  True,\n",
       "        True,  True,  True,  True,  True,  True,  True,  True,  True,\n",
       "        True,  True,  True,  True,  True,  True,  True,  True,  True,\n",
       "        True,  True,  True,  True,  True,  True,  True,  True,  True,\n",
       "        True,  True,  True,  True,  True,  True,  True,  True,  True,\n",
       "        True,  True,  True,  True,  True,  True,  True,  True,  True,\n",
       "        True,  True,  True,  True,  True,  True,  True,  True,  True,\n",
       "        True,  True,  True,  True,  True,  True,  True,  True,  True,\n",
       "        True,  True,  True,  True,  True,  True,  True,  True,  True,\n",
       "        True,  True,  True,  True,  True,  True,  True,  True,  True,\n",
       "        True,  True,  True,  True,  True,  True,  True,  True,  True,\n",
       "        True,  True,  True,  True,  True,  True,  True,  True,  True,\n",
       "        True,  True,  True,  True,  True,  True,  True,  True,  True,\n",
       "        True,  True,  True,  True,  True,  True,  True,  True,  True,\n",
       "        True,  True,  True,  True,  True,  True,  True,  True,  True,\n",
       "        True,  True,  True,  True,  True,  True,  True,  True,  True,\n",
       "        True,  True,  True,  True,  True,  True,  True,  True,  True,\n",
       "        True,  True,  True,  True,  True,  True,  True,  True,  True,\n",
       "        True,  True,  True,  True,  True,  True,  True,  True,  True,\n",
       "        True,  True,  True,  True,  True,  True,  True,  True,  True,\n",
       "        True,  True,  True,  True,  True,  True,  True,  True,  True,\n",
       "        True,  True,  True,  True,  True,  True,  True,  True,  True,\n",
       "        True,  True,  True,  True,  True,  True,  True,  True,  True,\n",
       "        True,  True,  True,  True,  True,  True,  True,  True,  True,\n",
       "        True,  True,  True,  True,  True,  True,  True,  True,  True,\n",
       "        True,  True,  True,  True,  True,  True,  True,  True,  True,\n",
       "        True,  True,  True,  True,  True,  True,  True,  True,  True,\n",
       "        True,  True,  True,  True,  True,  True,  True,  True,  True,\n",
       "        True,  True,  True,  True,  True,  True,  True,  True,  True,\n",
       "        True,  True,  True,  True,  True,  True,  True,  True,  True,\n",
       "        True,  True,  True,  True,  True,  True,  True,  True,  True,\n",
       "        True,  True,  True,  True,  True,  True,  True,  True,  True,\n",
       "        True,  True,  True,  True,  True,  True,  True,  True,  True,\n",
       "        True,  True,  True,  True,  True,  True,  True,  True,  True,\n",
       "        True,  True,  True])"
      ]
     },
     "execution_count": 38,
     "metadata": {},
     "output_type": "execute_result"
    }
   ],
   "source": [
    "ones_array = np.ones(len(total_frequencies))\n",
    "zeros_array = np.zeros(len(total_frequencies))\n",
    "\n",
    "np.logical_or(np.isclose(total_frequencies, ones_array),\n",
    "              np.isclose(total_frequencies, zeros_array))"
   ]
  },
  {
   "cell_type": "code",
   "execution_count": 37,
   "metadata": {},
   "outputs": [
    {
     "data": {
      "text/plain": [
       "0.9999999999999999"
      ]
     },
     "execution_count": 37,
     "metadata": {},
     "output_type": "execute_result"
    }
   ],
   "source": [
    "total_frequencies[-2]"
   ]
  },
  {
   "cell_type": "code",
   "execution_count": 32,
   "metadata": {},
   "outputs": [
    {
     "ename": "AssertionError",
     "evalue": "",
     "output_type": "error",
     "traceback": [
      "\u001b[0;31m---------------------------------------------------------------------------\u001b[0m",
      "\u001b[0;31mAssertionError\u001b[0m                            Traceback (most recent call last)",
      "\u001b[0;32m<ipython-input-32-37650bdcc6d1>\u001b[0m in \u001b[0;36m<module>\u001b[0;34m\u001b[0m\n\u001b[1;32m      3\u001b[0m \u001b[0;34m\u001b[0m\u001b[0m\n\u001b[1;32m      4\u001b[0m \u001b[0;31m# Assert that it is all 1 or 0\u001b[0m\u001b[0;34m\u001b[0m\u001b[0;34m\u001b[0m\u001b[0;34m\u001b[0m\u001b[0m\n\u001b[0;32m----> 5\u001b[0;31m \u001b[0;32massert\u001b[0m \u001b[0mnp\u001b[0m\u001b[0;34m.\u001b[0m\u001b[0mall\u001b[0m\u001b[0;34m(\u001b[0m\u001b[0mnp\u001b[0m\u001b[0;34m.\u001b[0m\u001b[0mlogical_or\u001b[0m\u001b[0;34m(\u001b[0m\u001b[0mtotal_frequencies\u001b[0m \u001b[0;34m==\u001b[0m \u001b[0;36m1\u001b[0m\u001b[0;34m,\u001b[0m \u001b[0mtotal_frequencies\u001b[0m \u001b[0;34m==\u001b[0m \u001b[0;36m0\u001b[0m\u001b[0;34m)\u001b[0m\u001b[0;34m)\u001b[0m\u001b[0;34m\u001b[0m\u001b[0;34m\u001b[0m\u001b[0m\n\u001b[0m\u001b[1;32m      6\u001b[0m \u001b[0;34m\u001b[0m\u001b[0m\n\u001b[1;32m      7\u001b[0m \u001b[0;31m# The only way we can have a total frequency of 0 is if we are in a gap region.\u001b[0m\u001b[0;34m\u001b[0m\u001b[0;34m\u001b[0m\u001b[0;34m\u001b[0m\u001b[0m\n",
      "\u001b[0;31mAssertionError\u001b[0m: "
     ]
    }
   ],
   "source": [
    "# Get the total frequencies of each well\n",
    "total_frequencies = by_unit_frequency.sum(axis=0)\n",
    "\n",
    "# Assert that it is all 1 or 0\n",
    "assert np.all(np.logical_or(total_frequencies == 1, total_frequencies == 0))\n",
    "\n",
    "# The only way we can have a total frequency of 0 is if we are in a gap region. \n",
    "# This is because we are explicitly ignoring gaps in this calculation. The next\n",
    "# code identifies gaps\n",
    "gap_positions = total_frequencies == 0\n",
    "\n",
    "# Get the length of the unit frequency first axis\n",
    "n_units = by_unit_frequency.shape[0]\n",
    "\n",
    "# Compare the unit frequency to the expected array.\n",
    "# The furthest difference is 2 (e.g. if there are no reads matching to the\n",
    "# expected sequence), so take the absolute value is taken and the full\n",
    "# array divided by 2 to scale to a \"percent different\"\n",
    "difference_from_expectation_absolute = np.abs(by_unit_frequency - expected_array[:n_units])\n",
    "average_difference_from_expectation = np.sum(difference_from_expectation_absolute, axis = 0)/2\n",
    "\n",
    "# Set the gap positions to have a difference of 0\n",
    "average_difference_from_expectation[gap_positions] = 0"
   ]
  },
  {
   "cell_type": "code",
   "execution_count": 42,
   "metadata": {},
   "outputs": [],
   "source": [
    "total_possible_positions = sum(np.logical_not(gap_positions))"
   ]
  },
  {
   "cell_type": "code",
   "execution_count": 43,
   "metadata": {},
   "outputs": [
    {
     "data": {
      "text/plain": [
       "247"
      ]
     },
     "execution_count": 43,
     "metadata": {},
     "output_type": "execute_result"
    }
   ],
   "source": [
    "total_possible_positions"
   ]
  },
  {
   "cell_type": "code",
   "execution_count": 44,
   "metadata": {},
   "outputs": [
    {
     "data": {
      "text/plain": [
       "247"
      ]
     },
     "execution_count": 44,
     "metadata": {},
     "output_type": "execute_result"
    }
   ],
   "source": [
    "123+124"
   ]
  },
  {
   "cell_type": "code",
   "execution_count": 14,
   "metadata": {},
   "outputs": [],
   "source": [
    "# Get the counts of alignments that are paired end\n",
    "paired_alignment_inds = np.array([i for i, seqpair in enumerate(problem_well.non_dud_alignments)\n",
    "                                  if seqpair.is_paired_post_alignment_qc()])\n",
    "\n",
    "# Get the counts for the paired alignment seqpairs\n",
    "paired_alignment_counts = problem_well.all_aa_counts[paired_alignment_inds]\n",
    "\n",
    "# Get the positions with variety\n",
    "variable_position_counts = paired_alignment_counts[:, :, problem_well.all_variable_aa_positions]"
   ]
  },
  {
   "cell_type": "code",
   "execution_count": 15,
   "metadata": {},
   "outputs": [],
   "source": [
    "# Make sure all passed QC. This means that each variable position has at least\n",
    "# one count. This works because amino acids are only counted if they pass QC:\n",
    "# for all to pass QC they must all have a count at some position\n",
    "all_pos_at_least_one_count = np.all(variable_position_counts.sum(axis=1) >= 1, axis = 1)\n",
    "passing_qc = variable_position_counts[all_pos_at_least_one_count]\n",
    "alt_passing_qc = variable_position_counts[variable_position_counts.sum(axis = (1, 2)) == len(problem_well.all_variable_aa_positions)]"
   ]
  },
  {
   "cell_type": "code",
   "execution_count": 16,
   "metadata": {},
   "outputs": [],
   "source": [
    "# Get the number of positions\n",
    "n_positions = len(problem_well.all_variable_aa_positions)            \n",
    "\n",
    "# Get the unique sequences that all passed QC\n",
    "unique_binary_combos, unique_counts = np.unique(passing_qc, axis = 0, return_counts = True)\n",
    "\n",
    "# We cannot have more counts than paired seqpairs\n",
    "assert unique_counts.max() <= len(paired_alignment_inds), \"Counting error\"\n",
    "\n",
    "# Get a frequency array\n",
    "seq_depth = unique_counts.sum()\n",
    "unique_freqs = unique_counts / seq_depth\n",
    "\n",
    "# Loop over the unique combos and format for output\n",
    "output = [None] * len(unique_counts)\n",
    "for unique_counter, unique_binary_combo in enumerate(unique_binary_combos):\n",
    "\n",
    "    # Get the index profile. This maps each position to a unit position\n",
    "    # in either `BP_ARRAY` or `AA_ARRAY`\n",
    "    index_profile = np.argwhere(np.transpose(unique_binary_combo > 0))\n",
    "\n",
    "    # Get the position and amino acid.\n",
    "    unique_position_array = problem_well.all_variable_aa_positions[index_profile[:, 0]]\n",
    "    unique_combo = AA_ARRAY[index_profile[:, 1]]\n",
    "\n",
    "    # Make sure the output is sorted\n",
    "    assert np.all(np.diff(unique_position_array)), \"Output not sorted\"\n",
    "\n",
    "    # Construct a sequence based on the reference\n",
    "    # Construct a combo name based on the combo and position\n",
    "    new_seq = list(problem_well.reference_sequence_aa)\n",
    "    combo_name = [None] * n_positions\n",
    "    simple_combo = combo_name.copy()\n",
    "    for combo_ind, (pos, unit) in enumerate(zip(unique_position_array, unique_combo)):\n",
    "\n",
    "        # Update the sequence\n",
    "        new_seq[pos] = unit\n",
    "\n",
    "        # Update the combo name. Add the offset to the position index to get\n",
    "        # the start id of the reference seqeunce\n",
    "        combo_name[combo_ind] = f\"{problem_well.reference_sequence_aa[pos]}{pos + 1}{unit}\"\n",
    "\n",
    "        # Update the simple combo name\n",
    "        simple_combo[combo_ind] = unit\n",
    "\n",
    "    # Convert the new seq and new combo into strings\n",
    "    new_seq = \"\".join(new_seq)\n",
    "    combo_name = \"_\".join(combo_name)\n",
    "    simple_combo = \"\".join(simple_combo)"
   ]
  },
  {
   "cell_type": "code",
   "execution_count": 17,
   "metadata": {},
   "outputs": [
    {
     "data": {
      "text/plain": [
       "array([[ 0, 11],\n",
       "       [ 1,  5],\n",
       "       [ 2,  7],\n",
       "       [ 3,  9],\n",
       "       [ 4,  6],\n",
       "       [ 5, 18],\n",
       "       [ 6, 12],\n",
       "       [ 7,  9],\n",
       "       [ 8, 19],\n",
       "       [ 9, 10],\n",
       "       [10,  1],\n",
       "       [11, 14],\n",
       "       [12,  6],\n",
       "       [13,  4],\n",
       "       [14, 17],\n",
       "       [15, 19],\n",
       "       [16, 14]])"
      ]
     },
     "execution_count": 17,
     "metadata": {},
     "output_type": "execute_result"
    }
   ],
   "source": [
    "index_profile"
   ]
  },
  {
   "cell_type": "code",
   "execution_count": 18,
   "metadata": {},
   "outputs": [
    {
     "data": {
      "text/plain": [
       "array([  0,   9,  17,  32,  35,  74,  75,  76,  79,  82,  91,  94,  97,\n",
       "       105, 106, 107, 112])"
      ]
     },
     "execution_count": 18,
     "metadata": {},
     "output_type": "execute_result"
    }
   ],
   "source": [
    "unique_position_array"
   ]
  },
  {
   "cell_type": "code",
   "execution_count": 19,
   "metadata": {},
   "outputs": [
    {
     "data": {
      "text/plain": [
       "array([  0,   9,  17,  32,  35,  74,  75,  76,  79,  82,  91,  94,  97,\n",
       "       105, 106, 107, 112])"
      ]
     },
     "execution_count": 19,
     "metadata": {},
     "output_type": "execute_result"
    }
   ],
   "source": [
    "problem_well.all_variable_aa_positions"
   ]
  },
  {
   "cell_type": "code",
   "execution_count": 20,
   "metadata": {},
   "outputs": [
    {
     "data": {
      "text/plain": [
       "array([  0,   9,  17,  32,  35,  74,  75,  76,  79,  82,  91,  94,  97,\n",
       "       105, 106, 107, 112])"
      ]
     },
     "execution_count": 20,
     "metadata": {},
     "output_type": "execute_result"
    }
   ],
   "source": [
    "unique_position_array"
   ]
  },
  {
   "cell_type": "code",
   "execution_count": 21,
   "metadata": {},
   "outputs": [
    {
     "data": {
      "text/plain": [
       "(38, 23, 17)"
      ]
     },
     "execution_count": 21,
     "metadata": {},
     "output_type": "execute_result"
    }
   ],
   "source": [
    "passing_qc.shape"
   ]
  },
  {
   "cell_type": "code",
   "execution_count": 22,
   "metadata": {},
   "outputs": [
    {
     "name": "stdout",
     "output_type": "stream",
     "text": [
      "F: 34.68\n",
      "R: 33.95333333333333\n",
      "F: 34.74666666666667\n",
      "R: 34.36\n",
      "F: 34.52\n",
      "R: 34.67333333333333\n",
      "F: 35.053333333333335\n",
      "R: 34.58\n",
      "F: 35.06666666666667\n",
      "R: 34.04\n",
      "F: 34.28\n",
      "R: 34.446666666666665\n",
      "F: 34.54\n",
      "R: 34.84\n",
      "F: 34.04666666666667\n",
      "R: 34.34\n",
      "F: 34.666666666666664\n",
      "R: 34.42\n",
      "F: 34.193333333333335\n",
      "R: 34.60666666666667\n",
      "F: 34.72666666666667\n",
      "R: 34.04\n",
      "F: 34.28666666666667\n",
      "R: 34.58\n",
      "F: 34.46666666666667\n",
      "R: 34.71333333333333\n",
      "F: 34.766666666666666\n",
      "R: 34.18\n",
      "F: 34.873333333333335\n",
      "R: 35.00666666666667\n",
      "F: 34.06\n",
      "R: 34.54\n",
      "F: 34.526666666666664\n",
      "R: 34.78\n",
      "F: 34.233333333333334\n",
      "R: 34.60666666666667\n",
      "F: 34.53333333333333\n",
      "R: 34.473333333333336\n",
      "F: 34.62\n",
      "R: 34.14666666666667\n",
      "F: 34.4\n",
      "R: 34.373333333333335\n",
      "F: 34.76\n",
      "R: 34.49333333333333\n",
      "F: 33.86\n",
      "R: 34.54\n",
      "F: 34.8\n",
      "R: 34.5\n",
      "F: 34.62\n",
      "R: 34.586666666666666\n",
      "F: 34.42666666666667\n",
      "R: 34.72666666666667\n",
      "F: 34.32666666666667\n",
      "R: 34.306666666666665\n",
      "F: 34.8\n",
      "R: 34.24666666666667\n",
      "F: 34.513333333333335\n",
      "R: 34.32\n",
      "F: 34.233333333333334\n",
      "R: 34.42666666666667\n",
      "F: 34.81333333333333\n",
      "R: 34.42\n",
      "F: 34.34\n",
      "R: 34.5\n",
      "F: 34.36\n",
      "R: 34.8\n",
      "F: 34.46\n",
      "R: 34.38666666666666\n",
      "F: 34.193333333333335\n",
      "R: 34.78\n",
      "F: 34.36\n",
      "R: 34.50666666666667\n",
      "F: 34.44\n",
      "R: 34.806666666666665\n",
      "F: 34.553333333333335\n",
      "R: 34.526666666666664\n"
     ]
    }
   ],
   "source": [
    "for seqpair in problem_well.all_seqpairs:\n",
    "    print(\"F:\", seqpair.f_average_q)\n",
    "    print(\"R:\", seqpair.r_average_q)"
   ]
  },
  {
   "cell_type": "code",
   "execution_count": null,
   "metadata": {},
   "outputs": [],
   "source": []
  }
 ],
 "metadata": {
  "kernelspec": {
   "display_name": "Python 3",
   "language": "python",
   "name": "python3"
  },
  "language_info": {
   "codemirror_mode": {
    "name": "ipython",
    "version": 3
   },
   "file_extension": ".py",
   "mimetype": "text/x-python",
   "name": "python",
   "nbconvert_exporter": "python",
   "pygments_lexer": "ipython3",
   "version": "3.7.6"
  }
 },
 "nbformat": 4,
 "nbformat_minor": 4
}
