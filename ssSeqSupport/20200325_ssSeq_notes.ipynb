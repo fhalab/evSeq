{
 "cells": [
  {
   "cell_type": "markdown",
   "metadata": {},
   "source": [
    "20200325: modifying ssSeq to work with tile based mutagenesis\n",
    "\n",
    "\n",
    "\"Modify analyze_alignment and analyze_alignments to be able to perform either ssSeq for my case or ssSeq for your case. This is definitely the preferred option as it keeps code clean. You may need to write support functions and further modularize the existing functions (i.e. write new code for task-specific operations, but keep the shared operations together in their own functions).\""
   ]
  },
  {
   "cell_type": "markdown",
   "metadata": {},
   "source": [
    "analyze_alignment and analyze_alignments require the \n",
    "\n",
    "\"The default one provides a route to get to off-target mutations, but doesn't give the level of detail that the on-target mutations come with. Your mod is basically adding high level detail to the off-target mutations. You're going to want to use the AA frequency matrices\"\n",
    "\n",
    "The frequency matrices are the counts of amino acids identified from each read. They can be found in the PlateObjects.py file (\"aa_counts\"). This is a place for you to start pulling information on amino acids at other positions. The one downside to these matrices is that they uncouple positions along reads, but if you don't care about that kind of information then you can use them as they are. Otherwise you need to get more complicated algorithmically...\n",
    "\n"
   ]
  }
 ],
 "metadata": {
  "kernelspec": {
   "display_name": "Python 3",
   "language": "python",
   "name": "python3"
  },
  "language_info": {
   "codemirror_mode": {
    "name": "ipython",
    "version": 3
   },
   "file_extension": ".py",
   "mimetype": "text/x-python",
   "name": "python",
   "nbconvert_exporter": "python",
   "pygments_lexer": "ipython3",
   "version": "3.7.5"
  }
 },
 "nbformat": 4,
 "nbformat_minor": 4
}
